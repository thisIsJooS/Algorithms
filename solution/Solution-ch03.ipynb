{
 "cells": [
  {
   "cell_type": "markdown",
   "metadata": {},
   "source": [
    "# Q 01\n",
    "\n",
    "Q. 리스트 ['A', 'L', 'G', 'O', 'R', 'I', 'T', 'H', 'M'] 을 선택 정렬을 이용해 오름차순으로 정렬하라."
   ]
  },
  {
   "cell_type": "code",
   "execution_count": 8,
   "metadata": {},
   "outputs": [
    {
     "name": "stdout",
     "output_type": "stream",
     "text": [
      "['A', 'G', 'H', 'I', 'L', 'M', 'O', 'R', 'T']\n"
     ]
    }
   ],
   "source": [
    "def selection_sort(A):\n",
    "    n = len(A)\n",
    "    for i in range(n - 1):\n",
    "        min = i\n",
    "        for j in range(i + 1, n):\n",
    "            if A[min] > A[j]:\n",
    "                min = j\n",
    "        A[min], A[i] = A[i], A[min]\n",
    "\n",
    "A = ['A', 'L', 'G', 'O', 'R', 'I', 'T', 'H', 'M'] \n",
    "selection_sort(A)\n",
    "print(A)"
   ]
  },
  {
   "cell_type": "markdown",
   "metadata": {},
   "source": [
    "# Q 02\n",
    "\n",
    "Q. 리스트 [7, 4, 9, 6, 3, 8, 7, 5] 를 선택정렬을 이용해 오름차순으로 정렬하라. 각 단계에서의 배열의 내용을 나타내어라"
   ]
  },
  {
   "cell_type": "code",
   "execution_count": 10,
   "metadata": {},
   "outputs": [
    {
     "name": "stdout",
     "output_type": "stream",
     "text": [
      "[7, 4, 9, 6, 3, 8, 7, 5]\n",
      "[3, 4, 9, 6, 7, 8, 7, 5]\n",
      "[3, 4, 9, 6, 7, 8, 7, 5]\n",
      "[3, 4, 5, 6, 7, 8, 7, 9]\n",
      "[3, 4, 5, 6, 7, 8, 7, 9]\n",
      "[3, 4, 5, 6, 7, 8, 7, 9]\n",
      "[3, 4, 5, 6, 7, 7, 8, 9]\n",
      "[3, 4, 5, 6, 7, 7, 8, 9]\n"
     ]
    }
   ],
   "source": [
    "def selection_sort(A):\n",
    "    n = len(A)\n",
    "    for i in range(n - 1):\n",
    "        min = i\n",
    "        for j in range(i + 1, n):\n",
    "            if A[min] > A[j]:\n",
    "                min = j\n",
    "        A[min], A[i] = A[i], A[min]\n",
    "        print(A)\n",
    "\n",
    "A = [7, 4, 9, 6, 3, 8, 7, 5]\n",
    "print(A)\n",
    "selection_sort(A)"
   ]
  },
  {
   "cell_type": "markdown",
   "metadata": {},
   "source": [
    "# Q 03\n",
    "\n",
    "Q. 선택 정렬이 안정성을 만족하지 않는 경우의 예를 보여라"
   ]
  },
  {
   "cell_type": "code",
   "execution_count": 13,
   "metadata": {},
   "outputs": [
    {
     "name": "stdout",
     "output_type": "stream",
     "text": [
      "[7, 4, 9, 7, 3]\n",
      "[3, 4, 9, 7, 7]\n",
      "[3, 4, 9, 7, 7]\n",
      "[3, 4, 7, 9, 7]\n",
      "[3, 4, 7, 7, 9]\n"
     ]
    }
   ],
   "source": [
    "A = [7, 4, 9, 7, 3]\n",
    "print(A)\n",
    "selection_sort(A)"
   ]
  },
  {
   "cell_type": "markdown",
   "metadata": {},
   "source": [
    "# Q 04 \n",
    "\n",
    "Q. 선택 정렬의 기본 전략을 그대로 이용하면서 안정성을 만족하도록 알고리즘을 수정하는 방법을 설명하라"
   ]
  },
  {
   "cell_type": "code",
   "execution_count": 20,
   "metadata": {},
   "outputs": [
    {
     "name": "stdout",
     "output_type": "stream",
     "text": [
      "[7, 4, 9, 7, 2]\n",
      "[2, 7, 4, 9, 7]\n",
      "[2, 4, 7, 9, 7]\n",
      "[2, 4, 7, 9, 7]\n",
      "[2, 4, 7, 7, 9]\n"
     ]
    }
   ],
   "source": [
    "def selection_sort(A):\n",
    "    n = len(A)\n",
    "    for i in range(n - 1):\n",
    "        min = i\n",
    "        for j in range(i + 1, n):\n",
    "            if A[min] > A[j]:\n",
    "                min = j\n",
    "                \n",
    "##삭제# A[min], A[i] = A[i], A[min] ############\n",
    "    \n",
    "        ######## 추가 ###########\n",
    "        key = A[min]\n",
    "        while min > i:\n",
    "            A[min] = A[min - 1]\n",
    "            min -= 1\n",
    "        A[i] = key\n",
    "        print(A)\n",
    "        #########################\n",
    "A = [7, 4, 9, 7, 2]\n",
    "print(A)\n",
    "selection_sort(A)"
   ]
  },
  {
   "cell_type": "markdown",
   "metadata": {},
   "source": [
    "# Q 05\n",
    "\n",
    "Q. n개의 검은 구슬과 n개의 흰 구슬이 무작위로 일렬로 나열되어 있다. 이 구슬들을 흰 구슬이 모두 먼저 나오고 이후에 검은 구슬이 나오도록 정렬하려고 한다. 이 때, 구슬의 이동은 인접한 두 구슬을 교환하는 것만 가능하다. 이 문제를 해결하기 위한 알고리즘을 작성하라"
   ]
  },
  {
   "cell_type": "code",
   "execution_count": 23,
   "metadata": {},
   "outputs": [
    {
     "name": "stdout",
     "output_type": "stream",
     "text": [
      "[1, 1, 0, 0, 1, 0]\n",
      "[1, 0, 0, 1, 0, 1]\n",
      "[0, 0, 1, 0, 1, 1]\n",
      "[0, 0, 0, 1, 1, 1]\n",
      "[0, 0, 0, 1, 1, 1]\n",
      "[0, 0, 0, 1, 1, 1]\n"
     ]
    }
   ],
   "source": [
    "A = [1, 1, 0, 0, 1, 0]\n",
    "\n",
    "def bubble_sort(A):\n",
    "    n = len(A)\n",
    "    for i in range(n - 1):\n",
    "        for j in range(n - 1 - i):\n",
    "            if A[j] > A[j + 1]:\n",
    "                A[j], A[j + 1] = A[j + 1], A[j]\n",
    "        print(A)\n",
    "\n",
    "print(A)\n",
    "bubble_sort(A)"
   ]
  },
  {
   "cell_type": "markdown",
   "metadata": {},
   "source": [
    "# Q 06\n",
    "\n",
    "Q. 만약 리스트가 정렬되어 있다면 순차 탐색을 어떻게 개선할 수 있을까?"
   ]
  },
  {
   "cell_type": "code",
   "execution_count": 62,
   "metadata": {},
   "outputs": [
    {
     "name": "stdout",
     "output_type": "stream",
     "text": [
      "False\n",
      "True\n",
      "True\n"
     ]
    }
   ],
   "source": [
    "A = [3, 4, 5, 6, 7, 8, 9]\n",
    "\n",
    "def binary_search(A, n):\n",
    "    left, right = 0, len(A) - 1\n",
    "    \n",
    "    if left > right:\n",
    "        return False\n",
    "    \n",
    "    mid = (left + right) // 2\n",
    "   \n",
    "    if n == A[mid]: \n",
    "        return True\n",
    "    \n",
    "    elif n > A[mid] :\n",
    "        return binary_search(A[mid : right + 1], n)\n",
    "    \n",
    "    elif  n < A[mid]:\n",
    "        return binary_search(A[left : mid], n)\n",
    "    \n",
    "    \n",
    "print(binary_search(A, 2))\n",
    "print(binary_search(A, 3))\n",
    "print(binary_search(A, 4))\n",
    "    "
   ]
  },
  {
   "cell_type": "markdown",
   "metadata": {},
   "source": [
    "# Q 07\n",
    "\n",
    "Q. 순차탐색은 매 반복에서 두 가지를 비교해야 한다.  __if A[i] == key__ 는 코드에 보이는 비교 연산이고, 보이지는 않지만 반드시 필요한 비교도 있다. for 문에서 인덱스 i가 len(A)보다 작은지를 매번 검사하는 것인데, 이때 비교 연산이 사용된다. 그런데 순차 탐색의 알고리즘을 약간 바꾸면 이 비교 연산을 피할 수 있다. 리스트의 맨 마지막에 찾고자 하는 key값을 추가로 저장해 두는 것이다. 이것을 보초병(sentinel)을 세운다고 말한다. 이렇게 되면 항상 리스트에는 찾는 값이 있으므로 리스트의 모든 항목을 검사했는지를 매 반복에서 검사할 필요가 없다. for 문 대신에 while을 사용하여 이 알고리즘을 구현해 보라.\n",
    "<code>\n",
    "    def sequential_search(A, key):\n",
    "        for i in range(len(A)):\n",
    "            if A[i] == key:\n",
    "                return i\n",
    "        return -1\n",
    "</code>"
   ]
  },
  {
   "cell_type": "code",
   "execution_count": 3,
   "metadata": {},
   "outputs": [
    {
     "name": "stdout",
     "output_type": "stream",
     "text": [
      "인덱스 :  2\n",
      "인덱스 :  -1\n"
     ]
    }
   ],
   "source": [
    "def sequential_search(A, key):\n",
    "    A.append(key)\n",
    "    i = 0\n",
    "    while i < len(A):\n",
    "        if A[i] == key:\n",
    "            return i if i != (len(A) - 1) else -1\n",
    "        i += 1\n",
    "\n",
    "A = [1, 2, 3, 5, 6, 7, 8]\n",
    "print(\"인덱스 : \", sequential_search(A, 3))\n",
    "print(\"인덱스 : \", sequential_search(A, 4))"
   ]
  },
  {
   "cell_type": "markdown",
   "metadata": {},
   "source": [
    "# Q 11\n",
    "\n",
    "Q. 입력으로 주어진 문자열에서 A로 시작하고 B로 끝나는 substring 의 개수를 구하는 문제가 주어졌다. 예를 들어, 문자열 ADBAAEDBA에는 4개의 부분 문자열이 있다. __ADB__AAEDBA,  __ADBAAEDB__A,  ADBA __AEDB__A,  ADB __AAEDB__A이다.   \n",
    "1) 이 문제에 대한 brute force algorithm을 설계하고, 시간복잡도를 계산하라.   \n",
    "2) 이 문제에 대한 더 효율적인 알고리즘을 찾아보라"
   ]
  },
  {
   "cell_type": "code",
   "execution_count": 18,
   "metadata": {},
   "outputs": [
    {
     "name": "stdout",
     "output_type": "stream",
     "text": [
      "substring 의 개수 : 170751 , 걸린 시간 : 0.51163554\n",
      "substring 의 개수 : 170751 , 걸린 시간 : 0.00105262\n"
     ]
    }
   ],
   "source": [
    "import time\n",
    "\n",
    "s = \"DSBASDJHDABHBHJBADSHASDASDBSDDSAASASDJSFSJDAHBJAHAHFBLDFBFAHBFLKJBAFLKJHBJHABFABHJHASFJHBFASJHABJHBFJABASFHKBAHKBHKASFBH\\\n",
    "AFSKJLKSFAJKLSFJAFSKASBAKJBDSHJBASDHJASDBHJAASHVBJHBAJHABDHADSADSKJBASDKJBDASNJKNSADJAKSDBNJKDSBNJAKSDBNDASJKNDSJKDBNSAJKSDAB\\\n",
    "ASDBLASKJDBASDHBSDJHDBDSJKBDJKLNDSJKDASB DSLJKHNBDSJKLADSBDJSNBDSJNBSDAJKDSBDLIBDSASD BHKDSBSDASBDLSDBLHSDJAKKAHJKBAKABDAJHBJ\\\n",
    "AJSDBLDJKSAB DSHJB DSHBDSHDB HAASDKJLBDSLJKABSDLKHDSALKJSDBDSJKLBADSLKJNBDKJDASB S LAKJSDB DSJKNASJBSDBSDHBJHBSDJHABBSDHBAJSD\\\n",
    "ASHDVBSAVHDSJBSDAHBCHJBAVHSJHDBDHHDBHDJBDSAASDJKBDSKJBDSAKJADSBJKSDASDHDKBDASKJBADSISDIUWAOEARRJKBAJKBAABBABAAAIJIJOIFJFLKFSJK\\\n",
    "AFSKJLKSFAJKLSFJAFSKASBAKJBDSHJBASDHJASDBHJAASHVBJHBAJHABDHADSADSKJBASDKJBDASNJKNSADJAKSDBNJKDSBNJAKSDBNDASJKNDSJKDBNSAJKSDAB\\\n",
    "ASDBLASKJDBASDHBSDJHDBDSJKBDJKLNDSJKDASB DSLJKHNBDSJKLADSBDJSNBDSJNBSDAJKDSBDLIBDSASD BHKDSBSDASBDLSDBLHSDJAKKAHJKBAKABDAJHBJ\\\n",
    "AJSDBLDJKSAB DSHJB DSHBDSHDB HAASDKJLBDSLJKABSDLKHDSALKJSDBDSJKLBADSLKJNBDKJDASB S LAKJSDB DSJKNASJBSDBSDHBJHBSDJHABBSDHBAJSD\\\n",
    "ASHDVBSAVHDSJBSDAHBCHJBAVHSJHDBDHHDBHDJBDSAASDJKBDSKJBDSAKJADSBJKSDASDHDKBDASKJBADSISDIUWAOEARRJKBAJKBAABBABAAAIJIJOIFJFLKFSJK\\\n",
    "AFSKJLKSFAJKLSFJAFSKASBAKJBDSHJBASDHJASDBHJAASHVBJHBAJHABDHADSADSKJBASDKJBDASNJKNSADJAKSDBNJKDSBNJAKSDBNDASJKNDSJKDBNSAJKSDAB\\\n",
    "ASDBLASKJDBASDHBSDJHDBDSJKBDJKLNDSJKDASB DSLJKHNBDSJKLADSBDJSNBDSJNBSDAJKDSBDLIBDSASD BHKDSBSDASBDLSDBLHSDJAKKAHJKBAKABDAJHBJ\\\n",
    "AJSDBLDJKSAB DSHJB DSHBDSHDB HAASDKJLBDSLJKABSDLKHDSALKJSDBDSJKLBADSLKJNBDKJDASB S LAKJSDB DSJKNASJBSDBSDHBJHBSDJHABBSDHBAJSD\\\n",
    "ASHDVBSAVHDSJBSDAHBCHJBAVHSJHDBDHHDBHDJBDSAASDJKBDSKJBDSAKJADSBJKSDASDHDKBDASKJBADSISDIUWAOEARRJKBAJKBAABBABAAAIJIJOIFJFLKFSJK\\\n",
    "AFSKJLKSFAJKLSFJAFSKASBAKJBDSHJBASDHJASDBHJAASHVBJHBAJHABDHADSADSKJBASDKJBDASNJKNSADJAKSDBNJKDSBNJAKSDBNDASJKNDSJKDBNSAJKSDAB\\\n",
    "ASDBLASKJDBASDHBSDJHDBDSJKBDJKLNDSJKDASB DSLJKHNBDSJKLADSBDJSNBDSJNBSDAJKDSBDLIBDSASD BHKDSBSDASBDLSDBLHSDJAKKAHJKBAKABDAJHBJ\\\n",
    "AJSDBLDJKSAB DSHJB DSHBDSHDB HAASDKJLBDSLJKABSDLKHDSALKJSDBDSJKLBADSLKJNBDKJDASB S LAKJSDB DSJKNASJBSDBSDHBJHBSDJHABBSDHBAJSD\\\n",
    "ASHDVBSAVHDSJBSDAHBCHJBAVHSJHDBDHHDBHDJBDSAASDJKBDSKJBDSAKJADSBJKSDASDHDKBDASKJBADSISDIUWAOEARRJKBAJKBAABBABAAAIJIJOIFJFLKFSJK\\\n",
    "AFSKJLKSFAJKLSFJAFSKASBAKJBDSHJBASDHJASDBHJAASHVBJHBAJHABDHADSADSKJBASDKJBDASNJKNSADJAKSDBNJKDSBNJAKSDBNDASJKNDSJKDBNSAJKSDAB\\\n",
    "ASDBLASKJDBASDHBSDJHDBDSJKBDJKLNDSJKDASB DSLJKHNBDSJKLADSBDJSNBDSJNBSDAJKDSBDLIBDSASD BHKDSBSDASBDLSDBLHSDJAKKAHJKBAKABDAJHBJ\\\n",
    "AJSDBLDJKSAB DSHJB DSHBDSHDB HAASDKJLBDSLJKABSDLKHDSALKJSDBDSJKLBADSLKJNBDKJDASB S LAKJSDB DSJKNASJBSDBSDHBJHBSDJHABBSDHBAJSD\\\n",
    "ASHDVBSAVHDSJBSDAHBCHJBAVHSJHDBDHHDBHDJBDSAASDJKBDSKJBDSAKJADSBJKSDASDHDKBDASKJBADSISDIUWAOEARRJKBAJKBAABBABAAAIJIJOIFJFLKFSJK\\\n",
    "AFSKJLKSFAJKLSFJAFSKASBAKJBDSHJBASDHJASDBHJAASHVBJHBAJHABDHADSADSKJBASDKJBDASNJKNSADJAKSDBNJKDSBNJAKSDBNDASJKNDSJKDBNSAJKSDAB\\\n",
    "ASDBLASKJDBASDHBSDJHDBDSJKBDJKLNDSJKDASB DSLJKHNBDSJKLADSBDJSNBDSJNBSDAJKDSBDLIBDSASD BHKDSBSDASBDLSDBLHSDJAKKAHJKBAKABDAJHBJ\\\n",
    "AJSDBLDJKSAB DSHJB DSHBDSHDB HAASDKJLBDSLJKABSDLKHDSALKJSDBDSJKLBADSLKJNBDKJDASB S LAKJSDB DSJKNASJBSDBSDHBJHBSDJHABBSDHBAJSD\\\n",
    "ASHDVBSAVHDSJBSDAHBCHJBAVHSJHDBDHHDBHDJBDSAASDJKBDSKJBDSAKJADSBJKSDASDHDKBDASKJBADSISDIUWAOEARRJKBAJKBAABBABAAAIJIJOIFJFLKFSJK\\\n",
    "AFSKJLKSFAJKLSFJAFSKASBAKJBDSHJBASDHJASDBHJAASHVBJHBAJHABDHADSADSKJBASDKJBDASNJKNSADJAKSDBNJKDSBNJAKSDBNDASJKNDSJKDBNSAJKSDAB\\\n",
    "ASDBLASKJDBASDHBSDJHDBDSJKBDJKLNDSJKDASB DSLJKHNBDSJKLADSBDJSNBDSJNBSDAJKDSBDLIBDSASD BHKDSBSDASBDLSDBLHSDJAKKAHJKBAKABDAJHBJ\\\n",
    "AJSDBLDJKSAB DSHJB DSHBDSHDB HAASDKJLBDSLJKABSDLKHDSALKJSDBDSJKLBADSLKJNBDKJDASB S LAKJSDB DSJKNASJBSDBSDHBJHBSDJHABBSDHBAJSD\\\n",
    "ASHDVBSAVHDSJBSDAHBCHJBAVHSJHDBDHHDBHDJBDSAASDJKBDSKJBDSAKJADSBJKSDASDHDKBDASKJBADSISDIUWAOEARRJKBAJKBAABBABAAAIJIJOIFJFLKFSJK\\\n",
    "AFSKJLKSFAJKLSFJAFSKASBAKJBDSHJBASDHJASDBHJAASHVBJHBAJHABDHADSADSKJBASDKJBDASNJKNSADJAKSDBNJKDSBNJAKSDBNDASJKNDSJKDBNSAJKSDAB\\\n",
    "ASDBLASKJDBASDHBSDJHDBDSJKBDJKLNDSJKDASB DSLJKHNBDSJKLADSBDJSNBDSJNBSDAJKDSBDLIBDSASD BHKDSBSDASBDLSDBLHSDJAKKAHJKBAKABDAJHBJ\\\n",
    "AJSDBLDJKSAB DSHJB DSHBDSHDB HAASDKJLBDSLJKABSDLKHDSALKJSDBDSJKLBADSLKJNBDKJDASB S LAKJSDB DSJKNASJBSDBSDHBJHBSDJHABBSDHBAJSD\\\n",
    "ASHDVBSAVHDSJBSDAHBCHJBAVHSJHDBDHHDBHDJBDSAASDJKBDSKJBDSAKJADSBJKSDASDHDKBDASKJBADSISDIUWAOEARRJKBAJKBAABBABAAAIJIJOIFJFLKFSJK\\\n",
    "DSAADADJKBADKJBDAJKBDAKBADJHBADJDJADJAHBADBADHBADKJBDAJHBADJKADBKJDABKJADBADJKDBADUIBADOIDAJDABADKUBADIUDAIUBDAUDABKDAJBADJKBFS\"\n",
    "\n",
    "# O(N^2)\n",
    "def substring_bf(s):\n",
    "    cnt = 0 \n",
    "    for i in range(len(s) - 1):\n",
    "        if s[i] == 'A':\n",
    "            for j in range(i + 1, len(s)):\n",
    "                if s[j] == 'B':\n",
    "                    cnt += 1\n",
    "    return cnt\n",
    "\n",
    "# O(N)\n",
    "def substring_faster(s):\n",
    "    cnt, aCnt = 0, 0\n",
    "    for i in range(len(s)):\n",
    "        if s[i] == 'A':\n",
    "            aCnt += 1\n",
    "        if s[i] == 'B':\n",
    "            cnt += aCnt\n",
    "    return cnt\n",
    "\n",
    "t1 = time.time()\n",
    "x1 = substring_bf(s)\n",
    "t2 = time.time()\n",
    "x2 = substring_faster(s)\n",
    "t3 = time.time()\n",
    "\n",
    "print(\"substring 의 개수 : %d , 걸린 시간 : %.8f\" % (substring_bf(s), t2-t1))\n",
    "print(\"substring 의 개수 : %d , 걸린 시간 : %.8f\" % (substring_faster(s), t3-t2))"
   ]
  },
  {
   "cell_type": "markdown",
   "metadata": {},
   "source": [
    "# Q 24\n",
    "\n",
    "<code>\n",
    "    vertex = ['A', 'B', 'C', 'D', 'E', 'F', 'G', 'H']\n",
    "    adjMat = [\n",
    "        [0, 1, 1, 0, 0, 0, 0, 0],\n",
    "        [1, 0, 0, 1, 0, 0, 0, 0],\n",
    "        [1, 0, 0, 1, 1, 0, 0, 0],\n",
    "        [0, 1, 1, 0, 0, 1, 0, 0],\n",
    "        [0, 0, 1, 0, 0, 0, 1, 1],\n",
    "        [0, 0, 0, 1, 0, 0, 0, 0],\n",
    "        [0, 0, 0, 0, 1, 0, 0, 1],\n",
    "        [0, 0, 0, 0, 1, 0, 1, 0]\n",
    "    ]\n",
    "</code>\n",
    "\n",
    "Q.   \n",
    "1) 이 그래프에 대한 깊이 우선 탐색 알고리즘을 구현하라   \n",
    "2) 이 그래프에 대한 너비 우선 탐색 알고리즘을 구현하라"
   ]
  },
  {
   "cell_type": "code",
   "execution_count": 18,
   "metadata": {},
   "outputs": [
    {
     "name": "stdout",
     "output_type": "stream",
     "text": [
      "A B D C E G H F "
     ]
    }
   ],
   "source": [
    "vertex = ['A', 'B', 'C', 'D', 'E', 'F', 'G', 'H']\n",
    "adjMat = [\n",
    "    [0, 1, 1, 0, 0, 0, 0, 0],\n",
    "    [1, 0, 0, 1, 0, 0, 0, 0],\n",
    "    [1, 0, 0, 1, 1, 0, 0, 0],\n",
    "    [0, 1, 1, 0, 0, 1, 0, 0],\n",
    "    [0, 0, 1, 0, 0, 0, 1, 1],\n",
    "    [0, 0, 0, 1, 0, 0, 0, 0],\n",
    "    [0, 0, 0, 0, 1, 0, 0, 1],\n",
    "    [0, 0, 0, 0, 1, 0, 1, 0]\n",
    "]\n",
    "\n",
    "def DFS(mat, vertex, start, visited):\n",
    "    if start not in visited:\n",
    "        visited.add(start)\n",
    "        print(vertex[start], end = ' ')\n",
    "        \n",
    "        adjVertices = set()\n",
    "        for i in range(len(vertex)):\n",
    "            if adjMat[start][i] == 1:\n",
    "                adjVertices.add(i)\n",
    "\n",
    "        nbr = adjVertices - visited\n",
    "        \n",
    "        for v in nbr:\n",
    "            DFS(mat, vertex, v, visited)\n",
    "    \n",
    "DFS(adjMat, vertex, 0, set())"
   ]
  },
  {
   "cell_type": "code",
   "execution_count": 22,
   "metadata": {},
   "outputs": [
    {
     "name": "stdout",
     "output_type": "stream",
     "text": [
      "A B C D E F G H "
     ]
    }
   ],
   "source": [
    "import queue\n",
    "\n",
    "\n",
    "def BFS(mat, start):\n",
    "    visited = {start}\n",
    "    q = queue.Queue()\n",
    "    q.put(start)\n",
    "    \n",
    "    while not q.empty():\n",
    "        v = q.get()\n",
    "        print(vertex[v], end = ' ')\n",
    "        \n",
    "        adjVertices = getAdjVertices(v)\n",
    "        nbr = adjVertices - visited\n",
    "        \n",
    "        for u in nbr:\n",
    "            visited.add(u)\n",
    "            q.put(u)\n",
    "        \n",
    "def getAdjVertices(v):\n",
    "    adjVertices = set()\n",
    "    for i in range(len(vertex)):\n",
    "        if adjMat[v][i] == 1:\n",
    "            adjVertices.add(i)\n",
    "    \n",
    "    return adjVertices\n",
    "\n",
    "BFS(adjMat, 0)"
   ]
  },
  {
   "cell_type": "code",
   "execution_count": null,
   "metadata": {},
   "outputs": [],
   "source": []
  }
 ],
 "metadata": {
  "kernelspec": {
   "display_name": "Python 3",
   "language": "python",
   "name": "python3"
  },
  "language_info": {
   "codemirror_mode": {
    "name": "ipython",
    "version": 3
   },
   "file_extension": ".py",
   "mimetype": "text/x-python",
   "name": "python",
   "nbconvert_exporter": "python",
   "pygments_lexer": "ipython3",
   "version": "3.7.4"
  }
 },
 "nbformat": 4,
 "nbformat_minor": 4
}
