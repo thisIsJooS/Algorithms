{
 "cells": [
  {
   "cell_type": "markdown",
   "metadata": {},
   "source": [
    "# Q01\n",
    "\n",
    "Q. 사용자로부터 n을 입력받아 n번째 피보나치 수를 메모이제이션과 테이블화의 두 가지 방법으로 각각 구해 출력하는 프로그램을 작성하라."
   ]
  },
  {
   "cell_type": "code",
   "execution_count": 4,
   "metadata": {},
   "outputs": [
    {
     "name": "stdout",
     "output_type": "stream",
     "text": [
      "피보나치 수열 : 0, 1, 1, 2, 3, 5, 8, 13 ...\n",
      "fibo_mem(5) : 5\n",
      "fibo_tab(5) : 5\n"
     ]
    }
   ],
   "source": [
    "def fibo(n, mem):\n",
    "    if mem[n] == None:\n",
    "        if n < 2:\n",
    "            mem[n] = n\n",
    "        \n",
    "        else:\n",
    "            mem[n] = fibo(n-1, mem) + fibo(n-2, mem)\n",
    "    \n",
    "    return mem[n]\n",
    "\n",
    "# memoization\n",
    "def fibo_mem(n):\n",
    "    mem = [None] * (n+1)\n",
    "    return fibo(n, mem)\n",
    "    \n",
    "# tabling\n",
    "def fibo_tab(n):\n",
    "    table = [None] * (n+1)\n",
    "    \n",
    "    table[0], table[1] = 0, 1\n",
    "    \n",
    "    for i in range(2, n+1):\n",
    "        table[i] = table[i-1] + table[i-2]\n",
    "    \n",
    "    return table[n]\n",
    "\n",
    "def fibo_tab2(n):\n",
    "    table = []\n",
    "    \n",
    "    table.append(0)\n",
    "    table.append(1)\n",
    "    \n",
    "    for i in range(2, n+1):\n",
    "        table.append(table[i-1] + table[i-2])\n",
    "    \n",
    "    return table[n]\n",
    "\n",
    "print('피보나치 수열 : 0, 1, 1, 2, 3, 5, 8, 13 ...')\n",
    "print('fibo_mem(5) :', fibo_mem(5))\n",
    "print('fibo_tab(5) :', fibo_tab(5))"
   ]
  },
  {
   "cell_type": "markdown",
   "metadata": {},
   "source": [
    "# Q 02\n",
    "\n",
    "Q. 테이블링 알고리즘에서 기반상황이 아닌 모든 항목들을 어떤 값으로 초기화할 필요는 없다. 일반적으로 메모이제이션에서는 맨 처음에 테이블의 모든 항목들을 특정 값으로 초기화해야 하지만 테이블화에서는 이러한 과정이 필요 없다. 그 이유를 설명하라."
   ]
  },
  {
   "cell_type": "code",
   "execution_count": 5,
   "metadata": {},
   "outputs": [
    {
     "name": "stdout",
     "output_type": "stream",
     "text": [
      "피보나치 수열 : 0, 1, 1, 2, 3, 5, 8, 13 ...\n",
      "fibo_tab2(5) : 5\n"
     ]
    }
   ],
   "source": [
    "def fibo_tab2(n):\n",
    "    table = []\n",
    "    \n",
    "    table.append(0)\n",
    "    table.append(1)\n",
    "    \n",
    "    for i in range(2, n+1):\n",
    "        table.append(table[i-1] + table[i-2])\n",
    "    \n",
    "    return table[n]\n",
    "\n",
    "\n",
    "print('피보나치 수열 : 0, 1, 1, 2, 3, 5, 8, 13 ...')\n",
    "print('fibo_tab2(5) :', fibo_tab2(5))"
   ]
  },
  {
   "cell_type": "markdown",
   "metadata": {},
   "source": [
    "# Q 03\n",
    "\n",
    "Q. 이항계수 계산 알고리즘을 메모이제이션 기법을 이용해 다시 구현하라."
   ]
  },
  {
   "cell_type": "code",
   "execution_count": 15,
   "metadata": {},
   "outputs": [
    {
     "name": "stdout",
     "output_type": "stream",
     "text": [
      "21\n",
      "21\n"
     ]
    }
   ],
   "source": [
    "# C(n,r) = C(n-1, r-1) + C(n-1, r)\n",
    "# 0 <= r <= n\n",
    "# r==0 or r==n >> 1\n",
    "\n",
    "def bi_coef_tab(n, r):\n",
    "    table = [[None for _ in range(r+1)] for _ in range(n+1)]\n",
    "    \n",
    "    for i in range(n+1):\n",
    "        for j in range(min(i, r)+1):\n",
    "            if j==0 or j==i:\n",
    "                table[i][j] = 1\n",
    "            else:\n",
    "                table[i][j] = table[i-1][j-1] + table[i-1][j]\n",
    "    \n",
    "    return table[n][r]\n",
    "\n",
    "\n",
    "def bi_coef(n, r, mem):\n",
    "    if mem[n][r] == None:\n",
    "        if r==0 or r==n:\n",
    "            mem[n][r] = 1\n",
    "            \n",
    "        else:\n",
    "            mem[n][r] = bi_coef(n-1, r-1, mem) + bi_coef(n-1, r, mem) \n",
    "        \n",
    "    return mem[n][r]\n",
    "\n",
    "def bi_coef_mem(n, r):\n",
    "    mem = [[None for _ in range(r+1)] for _ in range(n+1)]\n",
    "    return bi_coef(n, r, mem)\n",
    "    \n",
    "print(bi_coef_tab(7,2))\n",
    "print(bi_coef_mem(7,2))"
   ]
  },
  {
   "cell_type": "code",
   "execution_count": null,
   "metadata": {},
   "outputs": [],
   "source": []
  }
 ],
 "metadata": {
  "kernelspec": {
   "display_name": "Python 3",
   "language": "python",
   "name": "python3"
  },
  "language_info": {
   "codemirror_mode": {
    "name": "ipython",
    "version": 3
   },
   "file_extension": ".py",
   "mimetype": "text/x-python",
   "name": "python",
   "nbconvert_exporter": "python",
   "pygments_lexer": "ipython3",
   "version": "3.7.4"
  }
 },
 "nbformat": 4,
 "nbformat_minor": 4
}
