{
 "cells": [
  {
   "cell_type": "markdown",
   "metadata": {},
   "source": [
    "# Q 01\n",
    "\n",
    "Q. 사용자로부터 n을 입력받아 n번째 피보나치 수를 메모이제이션과 테이블화의 두 가지 방법으로 각각 구해 출력하는 프로그램을 작성하라."
   ]
  },
  {
   "cell_type": "code",
   "execution_count": 4,
   "metadata": {},
   "outputs": [
    {
     "name": "stdout",
     "output_type": "stream",
     "text": [
      "피보나치 수열 : 0, 1, 1, 2, 3, 5, 8, 13 ...\n",
      "fibo_mem(5) : 5\n",
      "fibo_tab(5) : 5\n"
     ]
    }
   ],
   "source": [
    "def fibo(n, mem):\n",
    "    if mem[n] == None:\n",
    "        if n < 2:\n",
    "            mem[n] = n\n",
    "        \n",
    "        else:\n",
    "            mem[n] = fibo(n-1, mem) + fibo(n-2, mem)\n",
    "    \n",
    "    return mem[n]\n",
    "\n",
    "# memoization\n",
    "def fibo_mem(n):\n",
    "    mem = [None] * (n+1)\n",
    "    return fibo(n, mem)\n",
    "    \n",
    "# tabling\n",
    "def fibo_tab(n):\n",
    "    table = [None] * (n+1)\n",
    "    \n",
    "    table[0], table[1] = 0, 1\n",
    "    \n",
    "    for i in range(2, n+1):\n",
    "        table[i] = table[i-1] + table[i-2]\n",
    "    \n",
    "    return table[n]\n",
    "\n",
    "def fibo_tab2(n):\n",
    "    table = []\n",
    "    \n",
    "    table.append(0)\n",
    "    table.append(1)\n",
    "    \n",
    "    for i in range(2, n+1):\n",
    "        table.append(table[i-1] + table[i-2])\n",
    "    \n",
    "    return table[n]\n",
    "\n",
    "print('피보나치 수열 : 0, 1, 1, 2, 3, 5, 8, 13 ...')\n",
    "print('fibo_mem(5) :', fibo_mem(5))\n",
    "print('fibo_tab(5) :', fibo_tab(5))"
   ]
  },
  {
   "cell_type": "markdown",
   "metadata": {},
   "source": [
    "# Q 02\n",
    "\n",
    "Q. 테이블링 알고리즘에서 기반상황이 아닌 모든 항목들을 어떤 값으로 초기화할 필요는 없다. 일반적으로 메모이제이션에서는 맨 처음에 테이블의 모든 항목들을 특정 값으로 초기화해야 하지만 테이블화에서는 이러한 과정이 필요 없다. 그 이유를 설명하라."
   ]
  },
  {
   "cell_type": "code",
   "execution_count": 5,
   "metadata": {},
   "outputs": [
    {
     "name": "stdout",
     "output_type": "stream",
     "text": [
      "피보나치 수열 : 0, 1, 1, 2, 3, 5, 8, 13 ...\n",
      "fibo_tab2(5) : 5\n"
     ]
    }
   ],
   "source": [
    "def fibo_tab2(n):\n",
    "    table = []\n",
    "    \n",
    "    table.append(0)\n",
    "    table.append(1)\n",
    "    \n",
    "    for i in range(2, n+1):\n",
    "        table.append(table[i-1] + table[i-2])\n",
    "    \n",
    "    return table[n]\n",
    "\n",
    "\n",
    "print('피보나치 수열 : 0, 1, 1, 2, 3, 5, 8, 13 ...')\n",
    "print('fibo_tab2(5) :', fibo_tab2(5))"
   ]
  },
  {
   "cell_type": "markdown",
   "metadata": {},
   "source": [
    "# Q 04\n",
    "\n",
    "Q. 이항계수 계산 알고리즘을 메모이제이션 기법을 이용해 다시 구현하라."
   ]
  },
  {
   "cell_type": "code",
   "execution_count": 15,
   "metadata": {},
   "outputs": [
    {
     "name": "stdout",
     "output_type": "stream",
     "text": [
      "21\n",
      "21\n"
     ]
    }
   ],
   "source": [
    "# C(n,r) = C(n-1, r-1) + C(n-1, r)\n",
    "# 0 <= r <= n\n",
    "# r==0 or r==n >> 1\n",
    "\n",
    "def bi_coef_tab(n, r):\n",
    "    table = [[None for _ in range(r+1)] for _ in range(n+1)]\n",
    "    \n",
    "    for i in range(n+1):\n",
    "        for j in range(min(i, r)+1):\n",
    "            if j==0 or j==i:\n",
    "                table[i][j] = 1\n",
    "            else:\n",
    "                table[i][j] = table[i-1][j-1] + table[i-1][j]\n",
    "    \n",
    "    return table[n][r]\n",
    "\n",
    "\n",
    "def bi_coef(n, r, mem):\n",
    "    if mem[n][r] == None:\n",
    "        if r==0 or r==n:\n",
    "            mem[n][r] = 1\n",
    "            \n",
    "        else:\n",
    "            mem[n][r] = bi_coef(n-1, r-1, mem) + bi_coef(n-1, r, mem) \n",
    "        \n",
    "    return mem[n][r]\n",
    "\n",
    "def bi_coef_mem(n, r):\n",
    "    mem = [[None for _ in range(r+1)] for _ in range(n+1)]\n",
    "    return bi_coef(n, r, mem)\n",
    "    \n",
    "print(bi_coef_tab(7,2))\n",
    "print(bi_coef_mem(7,2))"
   ]
  },
  {
   "cell_type": "markdown",
   "metadata": {},
   "source": [
    "# Q08\n",
    "\n",
    "Q. 다음의 0-1 배낭 채우기 문제를 해결하라. 테이블을 만들고 모든 항목을 채워서 답을 구하는 과정을 보여라. 배낭의 용량은 6이다.\n",
    "\n",
    "<code>\n",
    "    wt = [3, 2, 1, 4, 5]\n",
    "    val = [26, 20, 14, 40, 50]\n",
    "    W = 6\n",
    "</code>\n"
   ]
  },
  {
   "cell_type": "code",
   "execution_count": 15,
   "metadata": {},
   "outputs": [
    {
     "name": "stdout",
     "output_type": "stream",
     "text": [
      "최대가치 : 64\n"
     ]
    }
   ],
   "source": [
    "wt = [3, 2, 1, 4, 5]\n",
    "val = [26, 20, 14, 40, 50]\n",
    "W = 6\n",
    "n = len(val)\n",
    "\n",
    "def knapSack(W, wt, val, n):\n",
    "    t = [[0 for _ in range(W+1)] for _ in range(n+1)]\n",
    "    \n",
    "    for i in range(1, n+1):\n",
    "        for w in range(1, W+1):\n",
    "            if wt[i-1] > w:\n",
    "                t[i][w] = t[i-1][w]\n",
    "            else:\n",
    "                valWith = val[i-1] + t[i-1][w-wt[i-1]]\n",
    "                valWithout = t[i-1][w]\n",
    "                t[i][w] = max(valWith, valWithout)\n",
    "                \n",
    "    return t[n][W]\n",
    "\n",
    "print('최대가치 :', knapSack(W, wt, val, n))"
   ]
  },
  {
   "cell_type": "markdown",
   "metadata": {},
   "source": [
    "# Q 11\n",
    "\n",
    "Q. 0-1 배낭 채우기 알고리즘을 메모이제이션으로 구현해 보라"
   ]
  },
  {
   "cell_type": "code",
   "execution_count": 16,
   "metadata": {},
   "outputs": [
    {
     "name": "stdout",
     "output_type": "stream",
     "text": [
      "최대가치 : 64\n"
     ]
    }
   ],
   "source": [
    "wt = [3, 2, 1, 4, 5]\n",
    "val = [26, 20, 14, 40, 50]\n",
    "W = 6\n",
    "n = len(val)\n",
    "\n",
    "mem = [[None for _ in range(W+1)] for _ in range(n+1)]\n",
    "\n",
    "def knapSack(W, wt, val, n, mem):\n",
    "    if n == 0:\n",
    "        mem[n][W] = 0\n",
    "    if W == 0:\n",
    "        mem[n][W] = 0\n",
    "    \n",
    "    if mem[n][W] == None:\n",
    "        if wt[n-1] > W:\n",
    "            mem[n][W] = knapSack(W, wt, val, n-1, mem)\n",
    "        else:\n",
    "            valWith = val[n-1] + knapSack(W-wt[n-1], wt, val, n-1, mem)\n",
    "            valWithout = knapSack(W, wt, val, n-1, mem)\n",
    "            mem[n][W] = max(valWith, valWithout)\n",
    "                \n",
    "    return mem[n][W]\n",
    "\n",
    "\n",
    "print('최대가치 :', knapSack(W, wt, val, n, mem))"
   ]
  },
  {
   "cell_type": "markdown",
   "metadata": {},
   "source": [
    "# Q 13\n",
    "\n",
    "Q. 두 문자열 'DATA STRUCTURE' 와 'PYTHON ALGORITHM'에 대해 LCS테이블이 만들어지는 과정을 설명하라"
   ]
  },
  {
   "cell_type": "code",
   "execution_count": 9,
   "metadata": {},
   "outputs": [
    {
     "name": "stdout",
     "output_type": "stream",
     "text": [
      "[0, 0, 0, 0, 0, 0, 0, 0, 0, 0, 0, 0, 0, 0, 0, 0, 0]\n",
      "[0, 0, 0, 0, 0, 0, 0, 0, 0, 0, 0, 0, 0, 0, 0, 0, 0]\n",
      "[0, 0, 0, 0, 0, 0, 0, 0, 1, 1, 1, 1, 1, 1, 1, 1, 1]\n",
      "[0, 0, 0, 1, 1, 1, 1, 1, 1, 1, 1, 1, 1, 1, 2, 2, 2]\n",
      "[0, 0, 0, 1, 1, 1, 1, 1, 2, 2, 2, 2, 2, 2, 2, 2, 2]\n",
      "[0, 0, 0, 1, 1, 1, 1, 2, 2, 2, 2, 2, 2, 2, 2, 2, 2]\n",
      "[0, 0, 0, 1, 1, 1, 1, 2, 2, 2, 2, 2, 2, 2, 2, 2, 2]\n",
      "[0, 0, 0, 1, 1, 1, 1, 2, 2, 2, 2, 2, 2, 2, 3, 3, 3]\n",
      "[0, 0, 0, 1, 1, 1, 1, 2, 2, 2, 2, 2, 3, 3, 3, 3, 3]\n",
      "[0, 0, 0, 1, 1, 1, 1, 2, 2, 2, 2, 2, 3, 3, 3, 3, 3]\n",
      "[0, 0, 0, 1, 1, 1, 1, 2, 2, 2, 2, 2, 3, 3, 3, 3, 3]\n",
      "[0, 0, 0, 1, 1, 1, 1, 2, 2, 2, 2, 2, 3, 3, 4, 4, 4]\n",
      "[0, 0, 0, 1, 1, 1, 1, 2, 2, 2, 2, 2, 3, 3, 4, 4, 4]\n",
      "[0, 0, 0, 1, 1, 1, 1, 2, 2, 2, 2, 2, 3, 3, 4, 4, 4]\n",
      "[0, 0, 0, 1, 1, 1, 1, 2, 2, 2, 2, 2, 3, 3, 4, 4, 4]\n"
     ]
    }
   ],
   "source": [
    "def getLCSTable(S, T):\n",
    "    m = len(S)\n",
    "    n = len(T)\n",
    "    \n",
    "    t = [[0 for _ in range(n+1)] for _ in range(m+1)]\n",
    "    \n",
    "    for i in range(m+1):\n",
    "        for j in range(n+1):\n",
    "            if i == 0 or j == 0:\n",
    "                t[i][j] = 0\n",
    "            elif S[i-1] == T[j-1]:\n",
    "                t[i][j] = 1 + t[i-1][j-1]\n",
    "            else:\n",
    "                t[i][j] = max(t[i][j-1], t[i-1][j])\n",
    "    \n",
    "    return t\n",
    "\n",
    "S = 'DATA STRUCTURE'\n",
    "T = 'PYTHON ALGORITHM'\n",
    "\n",
    "M = getLCSTable(S, T)\n",
    "for m in M:\n",
    "    print(m)"
   ]
  },
  {
   "cell_type": "markdown",
   "metadata": {},
   "source": [
    "# Q 14\n",
    "\n",
    "Q. Q13에서 LCS를 추적하는 과정을 구려라."
   ]
  },
  {
   "cell_type": "code",
   "execution_count": 18,
   "metadata": {},
   "outputs": [
    {
     "data": {
      "text/plain": [
       "'TART'"
      ]
     },
     "execution_count": 18,
     "metadata": {},
     "output_type": "execute_result"
    }
   ],
   "source": [
    "def getLCS(S, T, t):\n",
    "    lcs = ''\n",
    "    \n",
    "    i = len(S)\n",
    "    j = len(T)\n",
    "    \n",
    "    while i > 0 and j > 0:\n",
    "        v = t[i][j]\n",
    "        \n",
    "        if v > t[i-1][j-1] and v > t[i-1][j] and v > t[i][j-1]:\n",
    "            lcs = S[i-1] + lcs\n",
    "            i -= 1 \n",
    "            j -= 1\n",
    "        \n",
    "        elif v > t[i-1][j] and v == t[i][j-1]:\n",
    "            j -= 1\n",
    "        \n",
    "        else:\n",
    "            i -= 1\n",
    "    \n",
    "    return lcs\n",
    "\n",
    "\n",
    "M = getLCSTable(S, T)\n",
    "\n",
    "getLCS(S, T, M)"
   ]
  },
  {
   "cell_type": "markdown",
   "metadata": {},
   "source": [
    "# Q 16\n",
    "\n",
    "Q. Q13 을 메모이제이션을 이용한 동적 계획법으로 수정하라."
   ]
  },
  {
   "cell_type": "code",
   "execution_count": 35,
   "metadata": {},
   "outputs": [
    {
     "data": {
      "text/plain": [
       "9"
      ]
     },
     "execution_count": 35,
     "metadata": {},
     "output_type": "execute_result"
    }
   ],
   "source": [
    "S = 'DATA STRUCTURE ABQQQQ'\n",
    "T = 'PYTHON ALGORITHM BAQQQ'\n",
    "\n",
    "m = len(S)\n",
    "n = len(T)\n",
    "mem = [[None for _ in range(n+1)] for _ in range(m+1)]\n",
    "\n",
    "def getLCS(S, T, mem):\n",
    "    m = len(S)\n",
    "    n = len(T)\n",
    "    \n",
    "    if m == 0 or n == 0:\n",
    "        mem[m][n] = 0 \n",
    "    \n",
    "    if mem[m][n] == None:\n",
    "        if S[-1] == T[-1]:\n",
    "            mem[m][n] = 1 + getLCS(S[:-1], T[:-1], mem)\n",
    "        \n",
    "        else:\n",
    "            mem[m][n] = max(getLCS(S[:-1], T, mem), getLCS(S, T[:-1], mem))\n",
    "    \n",
    "    return mem[m][n] \n",
    "\n",
    "getLCS(S, T, mem)\n",
    "\n",
    "#getLCS_traceback(S, T, mem)"
   ]
  },
  {
   "cell_type": "markdown",
   "metadata": {},
   "source": [
    "# Q 17\n",
    "\n",
    "Q. 다음 그래프에 대해 Floyd 알고리즘을 이용해 모든 정점 간의 최단경로를 구하는 과정을 보여라"
   ]
  },
  {
   "cell_type": "code",
   "execution_count": 39,
   "metadata": {},
   "outputs": [
    {
     "name": "stdout",
     "output_type": "stream",
     "text": [
      "[0, 7, 9, 20, 23, 14]\n",
      "[7, 0, 10, 15, 21, 21]\n",
      "[9, 10, 0, 11, 17, 23]\n",
      "[20, 15, 11, 0, 6, 15]\n",
      "[23, 21, 17, 6, 0, 9]\n",
      "[14, 21, 23, 15, 9, 0]\n"
     ]
    }
   ],
   "source": [
    "INF = 999\n",
    "vertex = ['A', 'B', 'C', 'D', 'E', 'F']\n",
    "graph = [\n",
    "    [0, 7, 9, INF, INF, 14],\n",
    "    [7, 0, 10, 15, INF, INF],\n",
    "    [9, 10, 0, 11, INF, INF],\n",
    "    [INF, 15, 11, 0, 6, INF],\n",
    "    [INF, INF, INF, 6, 0, 9],\n",
    "    [14, INF, INF, INF, 9, 0]\n",
    "]\n",
    "\n",
    "import copy\n",
    "\n",
    "def floyd(g, vertex):\n",
    "    vsize = len(vertex)\n",
    "    D = copy.deepcopy(g)\n",
    "    \n",
    "    for k in range(vsize):\n",
    "        for i in range(vsize):\n",
    "            for j in range(vsize):\n",
    "                D[i][j] = min(D[i][k] + D[k][j] , D[i][j])\n",
    "    \n",
    "    return D\n",
    "\n",
    "G = floyd(graph, vertex)\n",
    "for g in G:\n",
    "    print(g)"
   ]
  },
  {
   "cell_type": "markdown",
   "metadata": {},
   "source": [
    "# Q 18\n",
    "\n",
    "Q. 다음의 '방향 그래프' 에 대해 Floyd 알고리즘을 이용해 모든 정점 간의 최단경로를 구하는 과정을 보여라"
   ]
  },
  {
   "cell_type": "code",
   "execution_count": 40,
   "metadata": {},
   "outputs": [
    {
     "name": "stdout",
     "output_type": "stream",
     "text": [
      "[0, 50, 45, 20, 35, 999]\n",
      "[25, 0, 10, 15, 20, 999]\n",
      "[999, 999, 0, 999, 30, 999]\n",
      "[10, 60, 50, 0, 15, 999]\n",
      "[999, 999, 35, 999, 0, 999]\n",
      "[999, 999, 38, 999, 3, 0]\n"
     ]
    }
   ],
   "source": [
    "graph = [\n",
    "    [0, 50, 45, 20, INF, INF],\n",
    "    [INF, 0, 10, 15, 20, INF],\n",
    "    [INF, INF, 0, INF, 30, INF],\n",
    "    [10, INF, INF, 0, 15, INF],\n",
    "    [INF, INF, 35, INF, 0, INF],\n",
    "    [INF, INF, INF, INF, 3, 0]\n",
    "]\n",
    "\n",
    "G = floyd(graph, vertex)\n",
    "for g in G:\n",
    "    print(g)"
   ]
  },
  {
   "cell_type": "code",
   "execution_count": null,
   "metadata": {},
   "outputs": [],
   "source": []
  }
 ],
 "metadata": {
  "kernelspec": {
   "display_name": "Python 3",
   "language": "python",
   "name": "python3"
  },
  "language_info": {
   "codemirror_mode": {
    "name": "ipython",
    "version": 3
   },
   "file_extension": ".py",
   "mimetype": "text/x-python",
   "name": "python",
   "nbconvert_exporter": "python",
   "pygments_lexer": "ipython3",
   "version": "3.7.4"
  }
 },
 "nbformat": 4,
 "nbformat_minor": 4
}
