{
 "cells": [
  {
   "cell_type": "markdown",
   "metadata": {},
   "source": [
    "# Q 01\n",
    "\n",
    "Q. 0 ~ 999의 세 자리의 숫자로 이루어진 다음 리스트를 기수 정렬을 이용해 정렬하는 과정을 설명하라.    \n",
    "\n",
    "        [10, 123, 56, 636, 992, 119, 234, 76, 82, 345, 567, 432]"
   ]
  },
  {
   "cell_type": "code",
   "execution_count": null,
   "metadata": {},
   "outputs": [],
   "source": [
    "from queue import Queue\n",
    "\n",
    "BUCKETS = 10\n",
    "DIGITS = 3\n",
    "\n",
    "def radixSort(A):\n",
    "    queues = []\n",
    "    for b in range(BUCKETS):\n",
    "        queues.append(Queue())\n",
    "    \n",
    "    factor = 1\n",
    "    \n",
    "    for d in range(DIGITS):\n",
    "        for a in arr:\n",
    "            queues[a // factor % 10].put(a)\n",
    "        \n",
    "        j = 0 \n",
    "        for b in range(BUCKETS): \n",
    "            while not queues[b].empty():\n",
    "                arr[j] = queues[b].get()\n",
    "                j += 1\n",
    "        \n",
    "        factor *= 10\n",
    "\n",
    "        \n",
    "arr = [10, 123, 56, 636, 992, 119, 234, 76, 82, 345, 567, 432]\n",
    "\n",
    "radixSort(arr)\n",
    "arr"
   ]
  },
  {
   "cell_type": "markdown",
   "metadata": {},
   "source": [
    "# Q 02, 03, 04\n",
    "\n",
    "Q. 1번 문제를 10진법, 8진법, 2진법을 이용해 정렬하는 코드를 작성하라."
   ]
  },
  {
   "cell_type": "code",
   "execution_count": 16,
   "metadata": {},
   "outputs": [
    {
     "name": "stdout",
     "output_type": "stream",
     "text": [
      "몇 진법? >> 8\n"
     ]
    },
    {
     "data": {
      "text/plain": [
       "[10, 56, 76, 82, 119, 123, 234, 345, 432, 567, 636, 992]"
      ]
     },
     "execution_count": 16,
     "metadata": {},
     "output_type": "execute_result"
    }
   ],
   "source": [
    "from queue import Queue\n",
    "import math\n",
    "\n",
    "RADIX = int(input('몇 진법? >> '))\n",
    "MAX_VAL = 999\n",
    "\n",
    "BUCKETS = RADIX\n",
    "DIGITS = math.ceil(math.log(MAX_VAL, RADIX))\n",
    "\n",
    "def radixSort(A):\n",
    "    queues = []\n",
    "    for b in range(BUCKETS):\n",
    "        queues.append(Queue())\n",
    "    \n",
    "    factor = 1\n",
    "    \n",
    "    for d in range(DIGITS):\n",
    "        for a in arr:\n",
    "            queues[a // factor % RADIX].put(a)\n",
    "        \n",
    "        j = 0 \n",
    "        for b in range(BUCKETS): \n",
    "            while not queues[b].empty():\n",
    "                arr[j] = queues[b].get()\n",
    "                j += 1\n",
    "        \n",
    "        factor *= RADIX\n",
    "\n",
    "        \n",
    "arr = [10, 123, 56, 636, 992, 119, 234, 76, 82, 345, 567, 432]\n",
    "\n",
    "radixSort(arr)\n",
    "arr"
   ]
  },
  {
   "cell_type": "markdown",
   "metadata": {},
   "source": [
    "# Q 06\n",
    "\n",
    "Q. -200에서 200 사이의 값을 가진 리스트를 기수 정렬로 정렬할 수 있을까?"
   ]
  },
  {
   "cell_type": "code",
   "execution_count": 3,
   "metadata": {},
   "outputs": [
    {
     "data": {
      "text/plain": [
       "[-134, -120, -23, -20, -1, 10, 56, 76, 82, 119, 123, 195]"
      ]
     },
     "execution_count": 3,
     "metadata": {},
     "output_type": "execute_result"
    }
   ],
   "source": [
    "from queue import Queue\n",
    "\n",
    "BUCKETS = 10\n",
    "DIGITS = 3\n",
    "MIN_VAL = -200\n",
    "\n",
    "def radixSort(A):\n",
    "    queues = []\n",
    "    for b in range(BUCKETS):\n",
    "        queues.append(Queue())\n",
    "    \n",
    "    factor = 1\n",
    "    \n",
    "    for d in range(DIGITS):\n",
    "        for a in arr:\n",
    "            queues[(a+MIN_VAL) // factor % 10].put(a)\n",
    "        \n",
    "        j = 0 \n",
    "        for b in range(BUCKETS): \n",
    "            while not queues[b].empty():\n",
    "                arr[j] = queues[b].get()\n",
    "                j += 1\n",
    "        \n",
    "        factor *= 10\n",
    "\n",
    "        \n",
    "arr = [10, 123, 56, -134, -120, 119, -20, 76, 82, -23, -1, 195]\n",
    "\n",
    "radixSort(arr)\n",
    "arr"
   ]
  },
  {
   "cell_type": "markdown",
   "metadata": {},
   "source": [
    "# Q 07\n",
    "\n",
    "Q. 영어 단어의 리스트를 사전순서(lexicographic order)로 정렬하는 코드를 기수 정렬로 구현하라"
   ]
  },
  {
   "cell_type": "code",
   "execution_count": 39,
   "metadata": {},
   "outputs": [
    {
     "data": {
      "text/plain": [
       "['apple',\n",
       " 'application',\n",
       " 'banana',\n",
       " 'candle',\n",
       " 'candy',\n",
       " 'dragon',\n",
       " 'elegance',\n",
       " 'elevator',\n",
       " 'fiber',\n",
       " 'finance',\n",
       " 'graphic',\n",
       " 'horizontal',\n",
       " 'ideal']"
      ]
     },
     "execution_count": 39,
     "metadata": {},
     "output_type": "execute_result"
    }
   ],
   "source": [
    "from queue import Queue\n",
    "\n",
    "def longestWordLength(arr):\n",
    "    m = 0\n",
    "    for a in arr:\n",
    "        if len(a) > m:\n",
    "            m = len(a)\n",
    "    return m\n",
    "\n",
    "\n",
    "BUCKETS = 26\n",
    "DIGITS = longestWordLength(arr)\n",
    "\n",
    "def radixSort(A):\n",
    "    queues = []\n",
    "    for i in range(BUCKETS):\n",
    "        queues.append(Queue())\n",
    "    \n",
    "    \n",
    "    for d in range(DIGITS-1, -1, -1):\n",
    "        for a in A:\n",
    "            idx = (ord(a[d])-97) % 26 if d < len(a) else 0\n",
    "            queues[idx].put(a)\n",
    "        \n",
    "        j = 0\n",
    "        for b in range(BUCKETS):\n",
    "            while not queues[b].empty():\n",
    "                A[j] = queues[b].get()\n",
    "                j += 1\n",
    "      \n",
    "arr = ['application', 'candle', 'horizontal', 'apple', 'finance', 'candy', 'graphic', 'elevator', 'fiber', 'dragon', 'banana', 'elegance', 'ideal']\n",
    "radixSort(arr)\n",
    "arr\n"
   ]
  },
  {
   "cell_type": "markdown",
   "metadata": {},
   "source": [
    "# Q 08 \n",
    "\n",
    "Q. 알파벳으로 {알, 고, 리, 즘}을 가질 수 있는 다음 리스트를 카운팅 정렬을 이용해 사전순서로 정렬해 보라.\n",
    "\n",
    "[고, 고, 즘, 알 , 리, 알, 즘, 즘, 고, 리]"
   ]
  },
  {
   "cell_type": "code",
   "execution_count": 4,
   "metadata": {},
   "outputs": [
    {
     "data": {
      "text/plain": [
       "['고', '고', '고', '리', '리', '알', '알', '즘', '즘', '즘']"
      ]
     },
     "execution_count": 4,
     "metadata": {},
     "output_type": "execute_result"
    }
   ],
   "source": [
    "def getKindOfChars(arr):\n",
    "    _set = set(arr)\n",
    "    _list = list(_set)\n",
    "    return _list\n",
    "\n",
    "def countingSortForChars(A):\n",
    "    kindOfChars = getKindOfChars(A)\n",
    "    countDict = dict.fromkeys(kindOfChars, 0)\n",
    "\n",
    "    for a in A:\n",
    "        countDict[a] += 1\n",
    "\n",
    "    countArr = []\n",
    "    for c in countDict:\n",
    "        countArr.append([c, countDict[c]])\n",
    "    countArr.sort()\n",
    "    \n",
    "    j = 0\n",
    "    for d in range(len(countArr)):\n",
    "        while countArr[d][1] != 0:\n",
    "            A[j] = countArr[d][0]\n",
    "            j += 1\n",
    "            countArr[d][1] -= 1\n",
    "\n",
    "            \n",
    "arr = ['고', '고', '즘', '알', '리', '알', '즘', '즘', '고', '리']\n",
    "\n",
    "countingSortForChars(arr)\n",
    "arr"
   ]
  },
  {
   "cell_type": "markdown",
   "metadata": {},
   "source": [
    "# Q 11\n",
    "\n",
    "Q. -200에서 200 사이의 값을 가진 리스트를 카운팅 정렬로 정렬하는 코드를 작성하라."
   ]
  },
  {
   "cell_type": "code",
   "execution_count": 12,
   "metadata": {},
   "outputs": [
    {
     "data": {
      "text/plain": [
       "[-145, -145, -42, -42, -23, -1, 0, 12, 34, 34, 39, 56, 68, 123, 123, 183]"
      ]
     },
     "execution_count": 12,
     "metadata": {},
     "output_type": "execute_result"
    }
   ],
   "source": [
    "MIN_VAL = -200\n",
    "MAX_VAL = 200\n",
    "\n",
    "def countingSort(A):\n",
    "    \n",
    "    count = [0] * (abs(MAX_VAL) + abs(MIN_VAL) + 1)\n",
    "    output = [0] * len(A)\n",
    "    \n",
    "    for a in A:\n",
    "        count[a + abs(MIN_VAL)] += 1\n",
    "        \n",
    "    for i in range(1, len(count)):\n",
    "        count[i] += count[i-1]\n",
    "        \n",
    "    for a in A:\n",
    "        output[count[a + abs(MIN_VAL)]-1] = a\n",
    "        count[a + abs(MIN_VAL)] -= 1\n",
    "    \n",
    "    for i in range(len(A)):\n",
    "        A[i] = output[i]\n",
    "        \n",
    "                               \n",
    "a = [-145, -145, 34, 56, 123, 123, -42, -42, 68, 39, 183, 34, -23, -1, 0, 12]\n",
    "countingSort(a)\n",
    "a"
   ]
  },
  {
   "cell_type": "markdown",
   "metadata": {},
   "source": [
    "# Q 12\n",
    "\n",
    "Q. 알파벳 소문자와 대문자 (a ~ z, A ~ Z) 만으로 이루어진 리스트를 알파벳 순으로 정렬하는 코드를 카운팅 정렬로 구현하라."
   ]
  },
  {
   "cell_type": "code",
   "execution_count": 2,
   "metadata": {},
   "outputs": [
    {
     "data": {
      "text/plain": [
       "['A', 'a', 'B', 'B', 'b', 'C', 'c', 'D', 'd', 'd', 'E', 'e', 'e']"
      ]
     },
     "execution_count": 2,
     "metadata": {},
     "output_type": "execute_result"
    }
   ],
   "source": [
    "arr = ['b', 'c', 'd', 'd', 'a', 'e', 'e', 'A', 'B', 'D', 'E', 'C', 'B']\n",
    "\n",
    "NO_OF_CHARS = 26\n",
    "\n",
    "def countingSort(A):\n",
    "    count = [0] * NO_OF_CHARS\n",
    "    output = [0] * len(A)\n",
    "    \n",
    "    for a in A:\n",
    "        count[ord(a.lower())-97] += 1\n",
    "    \n",
    "    for i in range(1, len(count)):\n",
    "        count[i] += count[i-1]\n",
    "    \n",
    "    for a in A:\n",
    "        output[count[ord(a.lower())-97]-1] = a\n",
    "        count[ord(a.lower())-97] -= 1\n",
    "    \n",
    "    for i in range(len(A)):\n",
    "        A[i] = output[i]\n",
    "\n",
    "countingSort(arr)\n",
    "arr"
   ]
  },
  {
   "cell_type": "markdown",
   "metadata": {},
   "source": [
    "# Q 13\n",
    "\n",
    "Q. 다음 알파벳으로 구성된 텍스트와 패턴이 있다. 패턴으로 APPLE이 주어졌을 때, 다음의 호스풀 알고리즘의 시프트 테이블을 완성하라"
   ]
  },
  {
   "cell_type": "code",
   "execution_count": 17,
   "metadata": {},
   "outputs": [
    {
     "data": {
      "text/plain": [
       "[4, 5, 5, 5, 5, 5, 5, 5, 5, 5, 5, 1, 5, 5, 5, 2, 5, 5, 5, 5, 5, 5, 5, 5, 5, 5]"
      ]
     },
     "execution_count": 17,
     "metadata": {},
     "output_type": "execute_result"
    }
   ],
   "source": [
    "NO_OF_CHARS = 128\n",
    "\n",
    "def getShiftTable(pattern):\n",
    "    m = len(pattern)\n",
    "    table = [m] * NO_OF_CHARS\n",
    "    \n",
    "    for i in range(m-1):\n",
    "        table[ord(pattern[i])] = m - 1 - i\n",
    "    \n",
    "    return table\n",
    "\n",
    "table = getShiftTable('APPLE')\n",
    "table[65:91]"
   ]
  },
  {
   "cell_type": "markdown",
   "metadata": {},
   "source": [
    "# Q 14\n",
    "\n",
    "Q. 13번 문제에서 다음의 텍스트에서 APPLE을 호스풀 알고리즘으로 찾는 과정을 적어라.    \n",
    "        \"I_LOVE_BANANA_YOU_LIKE_APPLE_AND_MANGO\""
   ]
  },
  {
   "cell_type": "code",
   "execution_count": 25,
   "metadata": {},
   "outputs": [
    {
     "data": {
      "text/plain": [
       "23"
      ]
     },
     "execution_count": 25,
     "metadata": {},
     "output_type": "execute_result"
    }
   ],
   "source": [
    "NO_OF_CHARS = 128\n",
    "\n",
    "def getShiftTable(pattern):\n",
    "    m = len(pattern)\n",
    "    table = [m] * NO_OF_CHARS\n",
    "    \n",
    "    for i in range(m-1):\n",
    "        table[ord(pattern[i])] = m-1 - i\n",
    "    \n",
    "    return table\n",
    "\n",
    "\n",
    "def horspool_search(text, pattern):\n",
    "    n = len(text)\n",
    "    m = len(pattern)\n",
    "    lastCharIndex = m-1\n",
    "    table = getShiftTable(pattern)\n",
    "    \n",
    "    while lastCharIndex < n:\n",
    "        matchedCnt = 0\n",
    "        while matchedCnt < m and text[lastCharIndex - matchedCnt] == pattern[(m-1) - matchedCnt]:\n",
    "            matchedCnt += 1\n",
    "        \n",
    "        if matchedCnt == m:\n",
    "            return lastCharIndex - (m-1)\n",
    "        \n",
    "        else:\n",
    "            lastCharIndex += table[ord(text[lastCharIndex])]\n",
    "            \n",
    "    return -1\n",
    "\n",
    "text = \"I_LOVE_BANANA_YOU_LIKE_APPLE_AND_MANGO\"\n",
    "\n",
    "horspool_search(text, 'APPLE')"
   ]
  },
  {
   "cell_type": "markdown",
   "metadata": {},
   "source": [
    "# Q 15\n",
    "\n",
    "Q. 호스풀 알고리즘으로 DNA의 염기서열 탐색 문제를 해결해 보자. 어떤 DNA 서열이 {A, C, G, T}로만 구성되어 있다고 하자.\n",
    "\n",
    "1) 다음과 같은 염기서열에 대한 시프트 테이블을 구성하라.    \n",
    "        TCCTATTCTT    \n",
    "        \n",
    "2) 호스풀 알고리즘을 이용해 다음 DNA 시퀀스에서 위의 염기서열을 찾아라    \n",
    "        TTATAGATCTCGTATTCTTTTATAGATCTCCTATTCTT    \n",
    "        "
   ]
  },
  {
   "cell_type": "code",
   "execution_count": 13,
   "metadata": {},
   "outputs": [
    {
     "name": "stdout",
     "output_type": "stream",
     "text": [
      "{'A': 5, 'C': 2, 'G': 10, 'T': 1}\n"
     ]
    },
    {
     "data": {
      "text/plain": [
       "28"
      ]
     },
     "execution_count": 13,
     "metadata": {},
     "output_type": "execute_result"
    }
   ],
   "source": [
    "NO_OF_CHARS = 128\n",
    "\n",
    "def makeDict(pattern):\n",
    "    _list = ['A', 'C', 'G', 'T']\n",
    "    dic = dict.fromkeys(_list, len(pattern))\n",
    "    return dic\n",
    "    \n",
    "\n",
    "def getShiftTable(pattern):\n",
    "    m = len(pattern)\n",
    "    table = makeDict(pattern)\n",
    "    \n",
    "    for i in range(m-1):\n",
    "        table[pattern[i]] = (m-1) - i\n",
    "    \n",
    "    print(table)\n",
    "    \n",
    "    return table\n",
    "\n",
    "\n",
    "def horspool_search(text, pattern):\n",
    "    n = len(text)\n",
    "    m = len(pattern)\n",
    "    shiftTable = getShiftTable(pattern)\n",
    "    lastCharIndex = m-1\n",
    "    \n",
    "    while lastCharIndex < n:\n",
    "        matchedCnt = 0\n",
    "        while matchedCnt < m and text[lastCharIndex - matchedCnt] == pattern[(m-1) - matchedCnt]:\n",
    "            matchedCnt += 1\n",
    "        \n",
    "        if matchedCnt == m:\n",
    "            return lastCharIndex - (m-1)\n",
    "        \n",
    "        else:\n",
    "            lastCharIndex += shiftTable[text[lastCharIndex]]\n",
    "    \n",
    "    return -1\n",
    "\n",
    "horspool_search('TTATAGATCTCGTATTCTTTTATAGATCTCCTATTCTT', 'TCCTATTCTT')"
   ]
  },
  {
   "cell_type": "markdown",
   "metadata": {},
   "source": [
    "# Q 16\n",
    "\n",
    "Q. 1000개의 0으로 구성된 이진 텍스트를 다음 패턴으로 찾을 때 몇번의 비교 연산이 필요한가? 호스풀 알고리즘을 사용한다고 가정하라."
   ]
  },
  {
   "cell_type": "code",
   "execution_count": 7,
   "metadata": {},
   "outputs": [
    {
     "name": "stdout",
     "output_type": "stream",
     "text": [
      "996\n",
      "4980\n",
      "996\n"
     ]
    },
    {
     "data": {
      "text/plain": [
       "0"
      ]
     },
     "execution_count": 7,
     "metadata": {},
     "output_type": "execute_result"
    }
   ],
   "source": [
    "def getShiftTable(pattern):\n",
    "    m = len(pattern)\n",
    "    \n",
    "    table = [m] * 10\n",
    "    \n",
    "    for i in range(m-1):\n",
    "        table[int(pattern[i])] = (m-1) - i\n",
    "    \n",
    "    return table\n",
    "\n",
    "\n",
    "def horspool_search(text, pattern):\n",
    "    n = len(text)\n",
    "    m = len(pattern)\n",
    "    lastCharIndex = m-1\n",
    "    shiftTable = getShiftTable(pattern)\n",
    "    \n",
    "    comparedCnt = 0\n",
    "    \n",
    "    while lastCharIndex < n:\n",
    "        matchedCnt = 0\n",
    "        while matchedCnt < m and text[lastCharIndex - matchedCnt] == pattern[(m-1) - matchedCnt]:\n",
    "            matchedCnt += 1\n",
    "            comparedCnt += 1\n",
    "        \n",
    "        if matchedCnt == m:\n",
    "            return lastCharIndex - (m-1)\n",
    "        \n",
    "        else:\n",
    "            lastCharIndex += shiftTable[int(text[lastCharIndex])]\n",
    "            comparedCnt += 1\n",
    "    \n",
    "    print(comparedCnt)\n",
    "    return -1\n",
    "\n",
    "\n",
    "text = '0' * 1000\n",
    "horspool_search(text, '00001')\n",
    "horspool_search(text, '10000')\n",
    "horspool_search(text, '01010')\n",
    "horspool_search(text, '00000000')"
   ]
  },
  {
   "cell_type": "markdown",
   "metadata": {},
   "source": [
    "# Q 21\n",
    "\n",
    "Q. 크기가 11인 해시 테이블을 가정하자. 해시함수로는 다음을 사용한다.\n",
    "    \n",
    "    h(k) = k mod 11\n",
    "    \n",
    "  입력 자료가 다음과 같은 순서로 입력된다고 하면 다음 각 경우에 대한 해시 테이블의 내용을 그려라\n",
    "  \n",
    "      [12, 44, 13, 88, 23, 94, 11, 39, 20, 16, 5]\n",
    "  \n",
    "  \n",
    "  1) 충돌을 선형 조사법(linear probing)을 사용하여 처리한다.    \n",
    "  2) 충돌을 이차 조사법(quadratic probing)을 사용하여 처리한다.    \n",
    "  3) 충돌을 다음과 같은 이중 해시법(double hashing)을 사용하여 처리한다.   \n",
    "  \n",
    "          h'(k) = 7 - (k mod 7)    \n",
    "          \n",
    "  4) 충돌을 체인법을 사용하여 처리한다    "
   ]
  },
  {
   "cell_type": "code",
   "execution_count": 37,
   "metadata": {
    "scrolled": true
   },
   "outputs": [
    {
     "name": "stdout",
     "output_type": "stream",
     "text": [
      "12 삽입 (1) :  [None, 12, None, None, None, None, None, None, None, None, None]\n",
      "44 삽입 (0) :  [44, 12, None, None, None, None, None, None, None, None, None]\n",
      "13 삽입 (2) :  [44, 12, 13, None, None, None, None, None, None, None, None]\n",
      "88 삽입 (0) :  [44, 12, 13, 88, None, None, None, None, None, None, None]\n",
      "23 삽입 (1) :  [44, 12, 13, 88, 23, None, None, None, None, None, None]\n",
      "94 삽입 (6) :  [44, 12, 13, 88, 23, None, 94, None, None, None, None]\n",
      "11 삽입 (0) :  [44, 12, 13, 88, 23, 11, 94, None, None, None, None]\n",
      "39 삽입 (6) :  [44, 12, 13, 88, 23, 11, 94, 39, None, None, None]\n",
      "20 삽입 (9) :  [44, 12, 13, 88, 23, 11, 94, 39, None, 20, None]\n",
      "16 삽입 (5) :  [44, 12, 13, 88, 23, 11, 94, 39, 16, 20, None]\n",
      " 5 삽입 (5) :  [44, 12, 13, 88, 23, 11, 94, 39, 16, 20, 5]\n",
      "1 0 2 3 4 6 5 7 9 8 10 \n",
      "[44, -1, -1, 88, 23, -1, 94, 39, -1, 20, 5]\n"
     ]
    }
   ],
   "source": [
    "# 1) 충돌을 선형 조사법(linear probing)을 사용하여 처리한다.\n",
    "\n",
    "M = 11\n",
    "table = [None] * M\n",
    "\n",
    "def hashFn(k):\n",
    "    return k % M\n",
    "\n",
    "\n",
    "def insert_lp(k):\n",
    "    idx = hashFn(k)\n",
    "    cnt = 0\n",
    "    \n",
    "    while cnt < M and table[idx] != None and table[idx] != -1:\n",
    "        idx = (idx + 1) % M\n",
    "        cnt += 1\n",
    "    \n",
    "    if cnt == M:\n",
    "        return \n",
    "    \n",
    "    table[idx] = k\n",
    "\n",
    "    \n",
    "def search_lp(k):\n",
    "    idx = hashFn(k)\n",
    "    cnt = 0\n",
    "    \n",
    "    while cnt < M:\n",
    "        if table[idx] == None:\n",
    "            return None\n",
    "\n",
    "        if table[idx] == k:\n",
    "            return idx\n",
    "        \n",
    "        idx = (idx+1) % M\n",
    "        cnt += 1\n",
    "    \n",
    "    return None\n",
    "\n",
    "\n",
    "def delete_lp(k):\n",
    "    idx = hashFn(k)\n",
    "    cnt = 0\n",
    "    \n",
    "    while cnt < M:\n",
    "        if table[idx] == None:\n",
    "            return\n",
    "        \n",
    "        if table[idx] == k:\n",
    "            table[idx] = -1\n",
    "            return \n",
    "        \n",
    "        idx = (idx+1) % M\n",
    "        cnt += 1\n",
    "    \n",
    "    return\n",
    "\n",
    "\n",
    "arr = [12, 44, 13, 88, 23, 94, 11, 39, 20, 16, 5]\n",
    "for i in arr:\n",
    "    insert_lp(i)\n",
    "    print(\"%2d 삽입 (%d) : \" % (i, i%M), table)\n",
    "\n",
    "for i in arr:\n",
    "    print(search_lp(i), end = ' ')\n",
    "\n",
    "for i in range(10, 20):\n",
    "    delete_lp(i)\n",
    "\n",
    "print()\n",
    "print(table)"
   ]
  },
  {
   "cell_type": "code",
   "execution_count": 22,
   "metadata": {},
   "outputs": [
    {
     "name": "stdout",
     "output_type": "stream",
     "text": [
      "12 삽입 (1) :  [None, 12, None, None, None, None, None, None, None, None, None]\n",
      "44 삽입 (0) :  [44, 12, None, None, None, None, None, None, None, None, None]\n",
      "13 삽입 (2) :  [44, 12, 13, None, None, None, None, None, None, None, None]\n",
      "88 삽입 (0) :  [44, 12, 13, None, 88, None, None, None, None, None, None]\n",
      "23 삽입 (1) :  [44, 12, 13, None, 88, 23, None, None, None, None, None]\n",
      "94 삽입 (6) :  [44, 12, 13, None, 88, 23, 94, None, None, None, None]\n",
      "11 삽입 (0) :  [44, 12, 13, None, 88, 23, 94, None, None, 11, None]\n",
      "39 삽입 (6) :  [44, 12, 13, None, 88, 23, 94, 39, None, 11, None]\n",
      "20 삽입 (9) :  [44, 12, 13, None, 88, 23, 94, 39, None, 11, 20]\n",
      "16 삽입 (5) :  [44, 12, 13, 16, 88, 23, 94, 39, None, 11, 20]\n",
      " 5 삽입 (5) :  [44, 12, 13, 16, 88, 23, 94, 39, 5, 11, 20]\n",
      "1 0 2 4 5 6 9 7 10 3 8 \n",
      "[44, -1, -1, -1, 88, 23, 94, 39, 5, -1, 20]\n"
     ]
    }
   ],
   "source": [
    "# 2) 충돌을 이차 조사법(quadratic probing)을 사용하여 처리한다.\n",
    "\n",
    "M = 11\n",
    "table = [None] * M\n",
    "\n",
    "def hashFn(k):\n",
    "    return k % M\n",
    "\n",
    "\n",
    "def insert_qp(k):\n",
    "    idx = hashFn(k)\n",
    "    cnt = 0\n",
    "    \n",
    "    while cnt < M and table[idx] != None and table[idx] != -1:\n",
    "        idx = (hashFn(k) + (cnt+1)**2) % M\n",
    "        cnt += 1\n",
    "    \n",
    "    if cnt == M:\n",
    "        return\n",
    "    \n",
    "    table[idx] = k\n",
    "    \n",
    "\n",
    "def search_qp(k):\n",
    "    idx = hashFn(k)\n",
    "    cnt = 0\n",
    "    \n",
    "    while cnt < M:\n",
    "        if table[idx] == None:\n",
    "            return None\n",
    "        \n",
    "        if table[idx] == k:\n",
    "            return idx\n",
    "        \n",
    "        idx = (hashFn(k) + (cnt+1)**2) % M\n",
    "        cnt += 1\n",
    "    \n",
    "    return None\n",
    "    \n",
    "def delete_qp(k):\n",
    "    idx = hashFn(k)\n",
    "    cnt = 0\n",
    "    \n",
    "    while cnt < M:\n",
    "        if table[idx] == None:\n",
    "            return\n",
    "        \n",
    "        if table[idx] == k:\n",
    "            table[idx] = -1\n",
    "            \n",
    "        idx = (hashFn(k) + (cnt+1)**2) % M\n",
    "        cnt += 1\n",
    "    \n",
    "    return\n",
    "        \n",
    "    \n",
    "arr = [12, 44, 13, 88, 23, 94, 11, 39, 20, 16, 5]\n",
    "for i in arr:\n",
    "    insert_qp(i)\n",
    "    print(\"%2d 삽입 (%d) : \" % (i, i%M), table)\n",
    "    \n",
    "for i in arr:\n",
    "    print(search_qp(i), end = ' ')\n",
    "    \n",
    "for i in range(10, 20):\n",
    "    delete_qp(i)\n",
    "\n",
    "print()\n",
    "print(table)"
   ]
  },
  {
   "cell_type": "code",
   "execution_count": 23,
   "metadata": {},
   "outputs": [
    {
     "name": "stdout",
     "output_type": "stream",
     "text": [
      "12 삽입 (1) :  [None, 12, None, None, None, None, None, None, None, None, None]\n",
      "44 삽입 (0) :  [44, 12, None, None, None, None, None, None, None, None, None]\n",
      "13 삽입 (2) :  [44, 12, 13, None, None, None, None, None, None, None, None]\n",
      "88 삽입 (0) :  [44, 12, 13, 88, None, None, None, None, None, None, None]\n",
      "23 삽입 (1) :  [44, 12, 13, 88, None, None, 23, None, None, None, None]\n",
      "94 삽입 (6) :  [44, 12, 13, 88, None, None, 23, None, None, None, 94]\n",
      "11 삽입 (0) :  [44, 12, 13, 88, None, None, 23, None, None, 11, 94]\n",
      "39 삽입 (6) :  [44, 12, 13, 88, 39, None, 23, None, None, 11, 94]\n",
      "20 삽입 (9) :  [44, 12, 13, 88, 39, 20, 23, None, None, 11, 94]\n",
      "16 삽입 (5) :  [44, 12, 13, 88, 39, 20, 23, None, 16, 11, 94]\n",
      " 5 삽입 (5) :  [44, 12, 13, 88, 39, 20, 23, 5, 16, 11, 94]\n",
      "1 0 2 3 6 10 9 4 5 8 7 \n",
      "[44, -1, -1, 88, 39, 20, 23, 5, -1, -1, 94]\n"
     ]
    }
   ],
   "source": [
    "# h'(k) = 7 - (k mod 7) \n",
    "# 3) 충돌을 다음과 같은 이중 해시법(double hashing)을 사용하여 처리한다.\n",
    "\n",
    "M = 11\n",
    "table = [None] * M\n",
    "\n",
    "def hashFn(k):\n",
    "    return k % M\n",
    "\n",
    "def doubleHashFn(k):\n",
    "    return 7 - (k % 7)\n",
    "\n",
    "def insert_dh(k):\n",
    "    idx = hashFn(k)\n",
    "    cnt = 0\n",
    "    \n",
    "    while cnt < M and table[idx] != None and table[idx] != -1:\n",
    "        cnt += 1\n",
    "        idx = (idx + doubleHashFn(k)) % M\n",
    "    \n",
    "    if cnt == M:\n",
    "        return\n",
    "    \n",
    "    table[idx] = k\n",
    "\n",
    "    \n",
    "def search_dh(k):\n",
    "    idx = hashFn(k)\n",
    "    cnt = 0\n",
    "    \n",
    "    while cnt < M:\n",
    "        if table[idx] == None:\n",
    "            return None\n",
    "        \n",
    "        if table[idx] == k:\n",
    "            return idx\n",
    "        \n",
    "        cnt += 1\n",
    "        idx = (idx + doubleHashFn(k)) % M\n",
    "    \n",
    "    return None\n",
    "\n",
    "\n",
    "def delete_dh(k):\n",
    "    idx = hashFn(k)\n",
    "    cnt = 0\n",
    "    \n",
    "    while cnt < M:\n",
    "        if table[idx] == None:\n",
    "            return\n",
    "        \n",
    "        if table[idx] == k:\n",
    "            table[idx] = -1\n",
    "            \n",
    "        cnt += 1\n",
    "        idx = (idx + doubleHashFn(k)) % M\n",
    "        \n",
    "    return\n",
    "\n",
    "\n",
    "\n",
    "arr = [12, 44, 13, 88, 23, 94, 11, 39, 20, 16, 5]\n",
    "for i in arr:\n",
    "    insert_dh(i)\n",
    "    print(\"%2d 삽입 (%d) : \" % (i, i%M), table)\n",
    "    \n",
    "for i in arr:\n",
    "    print(search_dh(i), end = ' ')\n",
    "    \n",
    "for i in range(10, 20):\n",
    "    delete_dh(i)\n",
    "\n",
    "print()\n",
    "print(table)"
   ]
  },
  {
   "cell_type": "code",
   "execution_count": 76,
   "metadata": {},
   "outputs": [
    {
     "name": "stdout",
     "output_type": "stream",
     "text": [
      "table[ 0] : 44 -> 88 -> 11\n",
      "table[ 1] : 12 -> 23\n",
      "table[ 2] : 13\n",
      "table[ 3] : \n",
      "table[ 4] : \n",
      "table[ 5] : 16 -> 5\n",
      "table[ 6] : 94 -> 39\n",
      "table[ 7] : \n",
      "table[ 8] : \n",
      "table[ 9] : 20\n",
      "table[10] : \n",
      "1 0 2 0 1 6 0 6 9 5 5 \n",
      "table[ 0] : 44 -> 88\n",
      "table[ 1] : 23\n",
      "table[ 2] : \n",
      "table[ 3] : \n",
      "table[ 4] : \n",
      "table[ 5] : 5\n",
      "table[ 6] : 94 -> 39\n",
      "table[ 7] : \n",
      "table[ 8] : \n",
      "table[ 9] : 20\n",
      "table[10] : \n"
     ]
    }
   ],
   "source": [
    "# 4) 충돌을 체인법을 사용하여 처리한다\n",
    "\n",
    "M = 11\n",
    "table = [None] * M\n",
    "\n",
    "class Node:\n",
    "    def __init__(self, data, next = None) :\n",
    "        self.data = data\n",
    "        self.next = next\n",
    "        \n",
    "\n",
    "def hashFn(k):\n",
    "    return k % M\n",
    "\n",
    "\n",
    "def insert_chaining(k):\n",
    "    idx = hashFn(k)\n",
    "    \n",
    "    if table[idx] == None:\n",
    "        table[idx] = Node(k)\n",
    "    \n",
    "    elif table[idx] != None:\n",
    "        node = table[idx]\n",
    "        while node.next != None:\n",
    "            node = node.next\n",
    "        node.next = Node(k)\n",
    "    \n",
    "\n",
    "def search_chaining(k):\n",
    "    idx = hashFn(k)\n",
    "    node = table[idx]\n",
    "    \n",
    "    while node != None:\n",
    "        if node.data == k:\n",
    "            return idx\n",
    "\n",
    "        else:\n",
    "            node = node.next\n",
    "    \n",
    "    return None\n",
    "\n",
    "\n",
    "def delete_chaining(k):\n",
    "    idx = hashFn(k)\n",
    "    node = table[idx]\n",
    "    preNode = None\n",
    "    \n",
    "    while node != None:\n",
    "        if node.data == k:\n",
    "            if preNode == None:\n",
    "                table[idx] = node.next\n",
    "            else:\n",
    "                preNode.next = node.next\n",
    "            return True\n",
    "    \n",
    "        preNode = node\n",
    "        node = node.next\n",
    "        \n",
    "    return False\n",
    "    \n",
    "\n",
    "def printTable(table):\n",
    "    for i in range(len(table)):\n",
    "        node = table[i]\n",
    "    \n",
    "        print('table[%2d] : ' % i, end = '')\n",
    "\n",
    "        if node is not None:\n",
    "            print(node.data, end = '')\n",
    "            while node.next != None:\n",
    "                node = node.next\n",
    "                print(' ->', node.data, end = '')\n",
    "\n",
    "        print()\n",
    "\n",
    "        \n",
    "# Test\n",
    "arr = [12, 44, 13, 88, 23, 94, 11, 39, 20, 16, 5]\n",
    "\n",
    "# insert\n",
    "for a in arr:\n",
    "    insert_chaining(a)\n",
    "\n",
    "# print table\n",
    "printTable(table)\n",
    "\n",
    "# search\n",
    "for i in arr:\n",
    "    print(search_chaining(i), end = ' ')\n",
    "    \n",
    "# delete\n",
    "for i in range(10, 20):\n",
    "    delete_chaining(i)\n",
    "    \n",
    "\n",
    "# print table\n",
    "print()\n",
    "printTable(table)"
   ]
  },
  {
   "cell_type": "code",
   "execution_count": null,
   "metadata": {},
   "outputs": [],
   "source": []
  }
 ],
 "metadata": {
  "kernelspec": {
   "display_name": "Python 3",
   "language": "python",
   "name": "python3"
  },
  "language_info": {
   "codemirror_mode": {
    "name": "ipython",
    "version": 3
   },
   "file_extension": ".py",
   "mimetype": "text/x-python",
   "name": "python",
   "nbconvert_exporter": "python",
   "pygments_lexer": "ipython3",
   "version": "3.7.4"
  }
 },
 "nbformat": 4,
 "nbformat_minor": 4
}
