{
 "cells": [
  {
   "cell_type": "markdown",
   "metadata": {},
   "source": [
    "# Q 02\n",
    "\n",
    "#### 알고리즘 1.5\n",
    "gcd(a,b)\n",
    "1. a의 약수를 모두 찾아 리스트 alist에 저장한다.\n",
    "2. b의 약수를 모두 찾아 리스트 blist에 저장한다.\n",
    "3. alist와 blist에 공통적으로 들어 있는 가장 큰 숫자를 찾아 반환한다."
   ]
  },
  {
   "cell_type": "code",
   "execution_count": 10,
   "metadata": {},
   "outputs": [
    {
     "name": "stdout",
     "output_type": "stream",
     "text": [
      "60과 28의 최대공약수 :  4\n"
     ]
    }
   ],
   "source": [
    "import math\n",
    "\n",
    "def gcd(a, b):\n",
    "    alist, blist = [], []\n",
    "    \n",
    "    for i in range(1, int(math.sqrt(a)) + 1):\n",
    "        if a % i == 0:\n",
    "            alist.append(i)\n",
    "            if i != a // i:\n",
    "                alist.append(a // i)\n",
    "    \n",
    "    for i in range(1, int(math.sqrt(b)) + 1):\n",
    "        if b % i == 0:\n",
    "            blist.append(i)\n",
    "            if i != b // i:\n",
    "                blist.append(b // i)\n",
    "\n",
    "    alist.sort(reverse = True)\n",
    "    blist.sort(reverse = True)\n",
    "    \n",
    "    for u in blist:\n",
    "        for v in alist:\n",
    "            if u == v:\n",
    "                return u\n",
    "        \n",
    "gcd = gcd(60, 28)\n",
    "print(\"60과 28의 최대공약수 : \", gcd)"
   ]
  },
  {
   "cell_type": "markdown",
   "metadata": {},
   "source": [
    "# Q 03\n",
    "\n",
    "#### 알고리즘 1.6\n",
    "\n",
    "gcd(a,b)\n",
    "1. a의 약수를 모두 찾아 리스트 alist에 저장한다.\n",
    "2. alist의 가장 큰 수부터 차례대로 b의 약수인지를 검사한다. 만약 b의 약수이기도 하면 이 숫자를 반환한다.\n",
    "3. 이 과정을 alist의 모든 숫자에 대해 반복한다."
   ]
  },
  {
   "cell_type": "code",
   "execution_count": 9,
   "metadata": {},
   "outputs": [
    {
     "name": "stdout",
     "output_type": "stream",
     "text": [
      "60과 28의 최대공약수 :  4\n"
     ]
    }
   ],
   "source": [
    "import math\n",
    "\n",
    "def gcd(a, b):\n",
    "    alist = []\n",
    "    \n",
    "    for i in range(1, int(math.sqrt(a)) + 1):\n",
    "        if a % i == 0:\n",
    "            alist.append(i)\n",
    "            if i != a // i:\n",
    "                alist.append(a // i)\n",
    "    \n",
    "    alist.sort(reverse = True)\n",
    "    \n",
    "    for e in alist:\n",
    "        if b % e == 0:\n",
    "            return e\n",
    "\n",
    "gcd = gcd(60, 28)\n",
    "print(\"60과 28의 최대공약수 : \", gcd)"
   ]
  },
  {
   "cell_type": "markdown",
   "metadata": {},
   "source": [
    "# Q 04\n",
    "\n",
    "#### 알고리즘 1.7\n",
    "Q. 유클리드 알고리즘에 적절한 출력문을 추가하여 중간과정을 보여줄 수 있도록 수정하라"
   ]
  },
  {
   "cell_type": "code",
   "execution_count": 8,
   "metadata": {},
   "outputs": [
    {
     "name": "stdout",
     "output_type": "stream",
     "text": [
      "Step 1 >> a : 50, b : 28\n",
      "Step 2 >> a : 28, b : 22\n",
      "Step 3 >> a : 22, b : 6\n",
      "Step 4 >> a : 6, b : 4\n",
      "Step 5 >> a : 4, b : 2\n",
      "50과 28의 최대공약수 :  2\n"
     ]
    }
   ],
   "source": [
    "def gcd(a, b):\n",
    "    i = 1\n",
    "    while b != 0:\n",
    "        print(\"Step%2d >> a : %d, b : %d\" %(i, a, b))\n",
    "        i += 1\n",
    "        a, b = b, a%b\n",
    "    \n",
    "    return a\n",
    "\n",
    "gcd = gcd(50,28)\n",
    "print(\"50과 28의 최대공약수 : \", gcd)"
   ]
  },
  {
   "cell_type": "markdown",
   "metadata": {},
   "source": [
    "# Q 05\n",
    "\n",
    "Q. a가 b보다 작은 경우에도 정확한 결과를 낼 수 있도록 알고리즘 1.7을 수정하라"
   ]
  },
  {
   "cell_type": "code",
   "execution_count": 7,
   "metadata": {},
   "outputs": [
    {
     "name": "stdout",
     "output_type": "stream",
     "text": [
      "Step 1 >> a : 50, b : 28\n",
      "Step 2 >> a : 28, b : 22\n",
      "Step 3 >> a : 22, b : 6\n",
      "Step 4 >> a : 6, b : 4\n",
      "Step 5 >> a : 4, b : 2\n",
      "50과 28의 최대공약수 :  2\n"
     ]
    }
   ],
   "source": [
    "def gcd(a, b):\n",
    "    if a < b:     # 추가\n",
    "        a, b = b, a\n",
    "        \n",
    "    i = 1\n",
    "    while b != 0:\n",
    "        print(\"Step%2d >> a : %d, b : %d\" %(i, a, b))\n",
    "        i += 1\n",
    "        a, b = b, a%b\n",
    "    \n",
    "    return a\n",
    "\n",
    "gcd = gcd(50,28)\n",
    "print(\"50과 28의 최대공약수 : \", gcd)"
   ]
  },
  {
   "cell_type": "markdown",
   "metadata": {},
   "source": [
    "# Q 07\n",
    "\n",
    "Q. 알고리즘 1.7과 문제 2~3에서 구현된 알고리즘들의 속도 차이를 분석해 보라. 어떤 부분에서 차이가 큰지 설명하라."
   ]
  },
  {
   "cell_type": "code",
   "execution_count": 6,
   "metadata": {},
   "outputs": [
    {
     "name": "stdout",
     "output_type": "stream",
     "text": [
      "gcd2() 걸린 시간 :  0.10657143592834473\n",
      "gcd3() 걸린 시간 :  0.00665283203125\n",
      "gcd4() 걸린 시간 :  0.00010728836059570312\n"
     ]
    }
   ],
   "source": [
    "import time\n",
    "import math\n",
    "\n",
    "# Q02\n",
    "def gcd2(a, b):\n",
    "    alist, blist = [], []\n",
    "    \n",
    "    for i in range(1, int(math.sqrt(a)) + 1):\n",
    "        if a % i == 0:\n",
    "            alist.append(i)\n",
    "            if i != a // i:\n",
    "                alist.append(a // i)\n",
    "    \n",
    "    for i in range(1, int(math.sqrt(b)) + 1):\n",
    "        if b % i == 0:\n",
    "            blist.append(i)\n",
    "            if i != b // i:\n",
    "                blist.append(b // i)\n",
    "\n",
    "    alist.sort(reverse = True)\n",
    "    blist.sort(reverse = True)\n",
    "    \n",
    "    for u in blist:\n",
    "        for v in alist:\n",
    "            if u == v:\n",
    "                return u\n",
    "\n",
    "# Q03\n",
    "def gcd3(a, b):\n",
    "    alist = []\n",
    "    \n",
    "    for i in range(1, int(math.sqrt(a)) + 1):\n",
    "        if a % i == 0:\n",
    "            alist.append(i)\n",
    "            if i != a // i:\n",
    "                alist.append(a // i)\n",
    "    \n",
    "    alist.sort(reverse = True)\n",
    "    \n",
    "    for e in alist:\n",
    "        if b % e == 0:\n",
    "            return e\n",
    "        \n",
    "# Q04\n",
    "def gcd4(a, b):\n",
    "    while b != 0:\n",
    "        a, b = b, a%b\n",
    "    \n",
    "    return a\n",
    "\n",
    "t1 = time.time()\n",
    "gcd2 = gcd2(2348442300, 13284837200)\n",
    "t2 = time.time()\n",
    "gcd3 = gcd3(2348442300, 13284837200)\n",
    "t3 = time.time()\n",
    "gcd4 = gcd4(2348442300, 13284837200)\n",
    "t4 = time.time()\n",
    "\n",
    "print(\"gcd2() 걸린 시간 : \", t2 - t1)\n",
    "print(\"gcd3() 걸린 시간 : \", t3 - t2)\n",
    "print(\"gcd4() 걸린 시간 : \", t4 - t3)\n"
   ]
  },
  {
   "cell_type": "markdown",
   "metadata": {},
   "source": [
    "##### 속도는 알고리즘1.5 > 알고리즘1.6 >>> 알고리즘1.7\n",
    "##### 유클리드 알고리즘이 압도적으로 빠른 것을 확인할 수 있다."
   ]
  },
  {
   "cell_type": "markdown",
   "metadata": {},
   "source": [
    "# Q 08\n",
    "\n",
    "Q. 최소 공배수를 구하는 알고리즘을 설계해 보라. 최소 공배수의 정의를 이용할 수도 있지만, 최대 공약수와의 관계를 이용할 수 있다. 최대 공약수는 유클리드 알고리즘으로 간단히 구할 수 있다. 이러한 알고리즘 설계 방법을 변환정복 기법(transform and conquer)이라고 한다."
   ]
  },
  {
   "cell_type": "code",
   "execution_count": 12,
   "metadata": {},
   "outputs": [
    {
     "name": "stdout",
     "output_type": "stream",
     "text": [
      "60과 28의 최대공약수 :  4\n",
      "60과 28의 최소공배수 :  420\n"
     ]
    }
   ],
   "source": [
    "def gcd(a, b):\n",
    "    while b != 0:\n",
    "        a, b = b, a % b\n",
    "    return a\n",
    "\n",
    "def lcm(a,b):\n",
    "    return a * b // gcd(a, b)\n",
    "\n",
    "\n",
    "print(\"60과 28의 최대공약수 : \", gcd(60, 28))\n",
    "print(\"60과 28의 최소공배수 : \", lcm(60, 28))"
   ]
  },
  {
   "cell_type": "markdown",
   "metadata": {},
   "source": [
    "# Q 09\n",
    "\n",
    "Q. 임의의 실수 a, b, c가 주어졌을 떄, 2차방정식 ax^2 + bx + c = 0의 근을 구하는 알고리즘을 적어보라."
   ]
  },
  {
   "cell_type": "code",
   "execution_count": 30,
   "metadata": {},
   "outputs": [
    {
     "name": "stdout",
     "output_type": "stream",
     "text": [
      "근 : ( 1.0 , 0.5 )\n",
      "근이 존재하지 않습니다.\n",
      "근 :  3.0\n"
     ]
    }
   ],
   "source": [
    "from math import sqrt\n",
    "\n",
    "def qe(a, b, c):\n",
    "    if b**2 - 4*a*c > 0:\n",
    "        x1 =  (-b + sqrt(b**2 - 4 * a * c)) / (2 * a)\n",
    "        x2 =  (-b - sqrt(b**2 - 4 * a * c)) / (2 * a)\n",
    "        print(\"근 : (\", x1, \",\" , x2, \")\")\n",
    "    elif b**2 - 4*a*c == 0:\n",
    "        print(\"근 : \", -b / 2*a)\n",
    "    else:\n",
    "        print(\"근이 존재하지 않습니다.\")\n",
    "\n",
    "qe(2, -3, 1)\n",
    "qe(10, 3, 1)\n",
    "qe(1, -6, 9)"
   ]
  },
  {
   "cell_type": "markdown",
   "metadata": {},
   "source": [
    "# Q 10\n",
    "\n",
    "Q. 파이(π) 값을 계산하는 문제에 대한 정확한 해를 구할 수 있을까?"
   ]
  },
  {
   "cell_type": "code",
   "execution_count": 36,
   "metadata": {},
   "outputs": [
    {
     "name": "stdout",
     "output_type": "stream",
     "text": [
      "3.1415936536\n"
     ]
    }
   ],
   "source": [
    "# 라이프니츠의 공식\n",
    "def pi():\n",
    "    pi, temp, p, num = 0, 1, -1, 1\n",
    "    \n",
    "    while num < 1000000:\n",
    "        p *= -1\n",
    "        pi += p / temp\n",
    "        temp += 2\n",
    "        num += 1\n",
    "    \n",
    "    return 4 * pi\n",
    "\n",
    "print(\"%.10f\" % pi())"
   ]
  },
  {
   "cell_type": "code",
   "execution_count": 35,
   "metadata": {},
   "outputs": [
    {
     "name": "stdout",
     "output_type": "stream",
     "text": [
      "3.1415942244\n"
     ]
    }
   ],
   "source": [
    "# 윌리스 공식\n",
    "def pi():\n",
    "    pi, even, odd, num = 1, 2.0, 1.0, 1\n",
    "    \n",
    "    while num < 1000000:\n",
    "        pi *= even / odd\n",
    "        if num % 2 == 1:\n",
    "            odd += 2\n",
    "        else:\n",
    "            even += 2\n",
    "        num += 1\n",
    "    \n",
    "    return 2 * pi\n",
    "\n",
    "print(\"%.10f\" % pi())"
   ]
  },
  {
   "cell_type": "code",
   "execution_count": 39,
   "metadata": {},
   "outputs": [
    {
     "name": "stdout",
     "output_type": "stream",
     "text": [
      "3.1415916987\n"
     ]
    }
   ],
   "source": [
    "# 오일러의 곱셈 공식\n",
    "from math import sqrt\n",
    "def pi():\n",
    "    pi, num = 0, 1\n",
    "    \n",
    "    while num < 1000000:\n",
    "        pi += 1 / (num**2)\n",
    "        num += 1\n",
    "    \n",
    "    return sqrt(6 * pi)\n",
    "\n",
    "print(\"%.10f\" % pi())"
   ]
  },
  {
   "cell_type": "markdown",
   "metadata": {},
   "source": [
    "# Q 12\n",
    "\n",
    "Q. 배열에서 가장 가까운 두 항목을 찾아 거리를 찾아 반환하는 알고리즘"
   ]
  },
  {
   "cell_type": "code",
   "execution_count": 46,
   "metadata": {},
   "outputs": [
    {
     "name": "stdout",
     "output_type": "stream",
     "text": [
      "Brute-Force Algorithm 실행시간 :  4.711068630218506\n",
      "Counting Sort를 이용한 Algorithm 실행시간 :  0.0026247501373291016\n"
     ]
    }
   ],
   "source": [
    "# Brute Force - O(N^2)\n",
    "def min_distance_bf(A):\n",
    "    n = len(A)\n",
    "    dmin = float(\"inf\")\n",
    "    for i in range(n):\n",
    "        for j in range(n):\n",
    "            if i != j and abs(A[i] - A[j]) < dmin:\n",
    "                dmin = abs(A[i] - A[j])\n",
    "    return dmin\n",
    "\n",
    "# Counting Sort 함수 - O(N)\n",
    "MAX_VAL = 2002\n",
    "def counting_sort(A):\n",
    "    output = [0] * len(A)\n",
    "    count = [0] * MAX_VAL\n",
    "\n",
    "    for i in A:\n",
    "        count[i] += 1\n",
    "\n",
    "    for i in range(MAX_VAL):\n",
    "        count[i] += count[i - 1]\n",
    "\n",
    "    for i in range(len(A)):\n",
    "        output[count[A[i]] - 1] = A[i]\n",
    "        count[A[i]] -= 1\n",
    "\n",
    "    for i in range(len(A)):\n",
    "        A[i] = output[i]\n",
    "        \n",
    "#Counting Sort를 활용하여 dmin 구하기\n",
    "def min_distance_counting(A):\n",
    "    counting_sort(A)\n",
    "    n = len(A)\n",
    "    dmin = float(\"inf\")\n",
    "    for i in range(n - 1):\n",
    "        if abs(A[i]-A[i + 1]) < dmin:\n",
    "            dmin = abs(A[i]-A[i + 1])\n",
    "    return dmin\n",
    "    \n",
    "A = []\n",
    "for i in range(2000,0,-1):\n",
    "    A.append(i)\n",
    "    \n",
    "#실행시간 테스트\n",
    "t1 = time.time()\n",
    "dmin1 = min_distance_bf(A)\n",
    "t2 = time.time()\n",
    "dmin2 = min_distance_counting(A)\n",
    "t3 = time.time()\n",
    "\n",
    "print(\"Brute-Force Algorithm 실행시간 : \", t2 - t1)\n",
    "print(\"Counting Sort를 이용한 Algorithm 실행시간 : \", t3 - t2)"
   ]
  },
  {
   "cell_type": "markdown",
   "metadata": {},
   "source": [
    "---------\n",
    "min_distance_bf()의 시간복잡도는 O(N^2)이다.   \n",
    "시간복잡도가 O(NlogN) 혹은 O(N)인 정렬로 정렬한 다음 인접한 요소들끼리만 비교한다면?   \n",
    "*__O(NlogN) + O(N) = O(NlogN)__*  or  *__O(N) + O(N) = O(N)__* 의 시간복잡도로 최소 거리를 구할 수 있다.   \n",
    "기수정렬을 이용하여 테스트 해 보았더니 굉장히 효율적인 것을 볼 수 있다."
   ]
  },
  {
   "cell_type": "markdown",
   "metadata": {},
   "source": [
    "# Q 13\n",
    "\n",
    "Selection sort   \n",
    "Q.   \n",
    "    1. 이 알고리즘으로 리스트 [3, 7, 9, 4, 2, 8, 1, 5] 를 정렬하는 과정과 결과를 보여라   \n",
    "    2. 이 정렬이 비교 기반인지 분배 기반인지를 설명하라   \n",
    "    3. 이 알고리즘이 안정성이 있는지 없는지를 설명하라   \n",
    "    4. 이 알고리즘이 제자리 정렬인지 아닌지를 설명하라"
   ]
  },
  {
   "cell_type": "code",
   "execution_count": 21,
   "metadata": {},
   "outputs": [
    {
     "name": "stdout",
     "output_type": "stream",
     "text": [
      "1)\n",
      "Step 0 >>  [3, 7, 9, 4, 2, 8, 1, 5]\n",
      "Step 1 >>  [1, 7, 9, 4, 2, 8, 3, 5]\n",
      "Step 2 >>  [1, 2, 9, 4, 7, 8, 3, 5]\n",
      "Step 3 >>  [1, 2, 3, 4, 7, 8, 9, 5]\n",
      "Step 4 >>  [1, 2, 3, 4, 7, 8, 9, 5]\n",
      "Step 5 >>  [1, 2, 3, 4, 5, 8, 9, 7]\n",
      "Step 6 >>  [1, 2, 3, 4, 5, 7, 9, 8]\n",
      "Step 7 >>  [1, 2, 3, 4, 5, 7, 8, 9]\n"
     ]
    }
   ],
   "source": [
    "# 1)\n",
    "def selection_sort(A):\n",
    "    print(\"Step 0 >> \", A)\n",
    "    n = len(A)\n",
    "    for i in range(n-1):\n",
    "        least = i\n",
    "        for j in range(i+1, n):\n",
    "            if A[least] > A[j]:\n",
    "                least = j\n",
    "        A[i], A[least] = A[least], A[i]\n",
    "        print(\"Step%2d >> \" % (i+1),A)\n",
    "        \n",
    "print(\"1)\")\n",
    "A = [3, 7, 9, 4, 2, 8, 1, 5] \n",
    "selection_sort(A)"
   ]
  },
  {
   "cell_type": "markdown",
   "metadata": {},
   "source": [
    "2) 킷값을 서로 '비교'하여 정렬하였기 때문에 __비교 기반__이다.    \n",
    "3) [9, 7, 3, 9, 2] 의 경우에 동일한 킷값인 9 가 상대적인 위치가 바뀌기 때문에 __안정성이 없는 정렬__이다.   \n",
    "4) 원소들의 개수에 비해서 충분히 무시할 만한 저장 공간만을 더 사용하는 정렬 알고리즘을 제자리 정렬이라고 한다. 선택정렬은 __제자리 정렬__이다."
   ]
  },
  {
   "cell_type": "markdown",
   "metadata": {},
   "source": [
    "# Q 16\n",
    "\n",
    "2) 이 맵에서 인접한 영역에 같은 색이 칠해지지 않도록 색을 칠하는 방법을 설명하라   \n",
    "3) 위 문제에서 가장 작은 수의 색을 이용해 색칠하는 방법을 구하라"
   ]
  },
  {
   "cell_type": "code",
   "execution_count": 30,
   "metadata": {},
   "outputs": [
    {
     "name": "stdout",
     "output_type": "stream",
     "text": [
      "색상 3개 : \n",
      "  A =  red\n",
      "  B =  green\n",
      "  C =  red\n",
      "  D =  blue\n",
      "  E =  red\n",
      "  F =  blue\n",
      "  G =  green\n",
      "색상 2개 : \n",
      "그래프를 색칠할 수 없음!\n"
     ]
    }
   ],
   "source": [
    "def isSafe(g, v, c, color):\n",
    "    for i in range(len(g)):  # 그래프의 모든 정점 i에 대해\n",
    "        if g[v][i] == 1 and color[i] == c:  # 인접하고 색이 같으면 \n",
    "            return False\n",
    "    return True\n",
    "\n",
    "def DFS_graph_coloring(graph, k, v, color):  # k는 색상의 개수, v는 현재 정점의 인덱스\n",
    "    if v == len(graph):\n",
    "        return True\n",
    "    \n",
    "    for c in range(1, k+1):  # 모든 색상에 대하여\n",
    "        if isSafe(graph, v, c, color):  # v에 c를 칠할 수 있으면\n",
    "            color[v] = c\n",
    "            if DFS_graph_coloring(graph, k, v+1, color):\n",
    "                return True\n",
    "            color[v] = 0\n",
    "    \n",
    "    return False\n",
    "\n",
    "def graphColouring(graph, k, vertices):\n",
    "    color = [0] * len(graph)\n",
    "    ret = DFS_graph_coloring(graph, k, 0, color)\n",
    "    if ret:\n",
    "        for i in range(len(graph)):\n",
    "            print(\"%3s = \" % vertices[i], color_name[color[i]])\n",
    "    else:\n",
    "        print(\"그래프를 색칠할 수 없음!\")\n",
    "\n",
    "graph = [\n",
    "    [0, 1, 0, 1, 0, 0, 0],\n",
    "    [1, 0, 1, 1, 1, 1, 0],\n",
    "    [0, 1, 0, 0, 0, 1, 1],\n",
    "    [1, 1, 0, 0, 1, 0, 0],\n",
    "    [0, 1, 0, 1, 0, 1, 1],\n",
    "    [0, 1, 1, 0, 1, 0, 1],\n",
    "    [0, 0, 1, 0, 1, 1, 0]\n",
    "]\n",
    "vertices = ['A', 'B', 'C', 'D', 'E', 'F', 'G']\n",
    "color_name = [None, \"red\", \"green\", \"blue\"]\n",
    "\n",
    "print(\"색상 3개 : \")\n",
    "graphColouring(graph, 3, vertices)\n",
    "\n",
    "print(\"색상 2개 : \")\n",
    "graphColouring(graph, 2, vertices)"
   ]
  },
  {
   "cell_type": "markdown",
   "metadata": {},
   "source": [
    "# Q18\n",
    "\n",
    "Q. 다음과 같이 리스트에 사용자가 입력하는 값을 저장하고, 출력하는 프로그램을 작성하려고 한다.\n",
    "> 노드의 개수 : 3   \n",
    "> 노드 #1 데이터 : 5   \n",
    "> 노드 #2 데이터 : 6   \n",
    "> 노드 #3 데이터 : 7   \n",
    "> 리스트의 내용 : [5, 6, 7]\n",
    "\n",
    "1) 파이썬의 리스트를 이용해 이를 구현하라.   \n",
    "2) 단순연결리스트 구조를 이용해 이를 구현하라. 다음과 같은 노드 클래스를 사용하라   \n",
    "<code>\n",
    "class Node:\n",
    "    def \\_\\_init\\_\\_(self, data, link):\n",
    "        self.data = data\n",
    "        self.link = link\n",
    "</code>"
   ]
  },
  {
   "cell_type": "code",
   "execution_count": 33,
   "metadata": {},
   "outputs": [
    {
     "name": "stdout",
     "output_type": "stream",
     "text": [
      "노드의 개수 : 3\n",
      "노드 #1 데이터 : 5\n",
      "노드 #2 데이터 : 6\n",
      "노드 #3 데이터 : 7\n",
      "리스트의 내용 :  [5, 6, 7]\n"
     ]
    }
   ],
   "source": [
    "# 1)\n",
    "li = []\n",
    "input(\"노드의 개수 : \")\n",
    "li.append(int(input(\"노드 #1 데이터 : \")))\n",
    "li.append(int(input(\"노드 #2 데이터 : \")))\n",
    "li.append(int(input(\"노드 #3 데이터 : \")))\n",
    "print(\"리스트의 내용 : \", li)"
   ]
  },
  {
   "cell_type": "code",
   "execution_count": null,
   "metadata": {},
   "outputs": [],
   "source": [
    "class Node:\n",
    "    def __init__(self, data, link = None):\n",
    "        self.data = data\n",
    "        self.link = link\n",
    "\n",
    "class SinglyLinkedList:\n",
    "    def __init__(self):\n",
    "        self.head = None\n",
    "        self.size = 0\n",
    "    \n",
    "    def append(self, data):\n",
    "        if self.head == None:\n",
    "            self.head = data\n",
    "        else:\n",
    "            cur = self.head\n",
    "            while cur.link != None:\n",
    "                cur = cur.link\n",
    "            cur.link = data\n",
    "\n",
    "s = SinglyLinkedList()\n",
    "s.append(Node(1))\n",
    "\n",
    "#https://daimhada.tistory.com/72"
   ]
  }
 ],
 "metadata": {
  "kernelspec": {
   "display_name": "Python 3",
   "language": "python",
   "name": "python3"
  },
  "language_info": {
   "codemirror_mode": {
    "name": "ipython",
    "version": 3
   },
   "file_extension": ".py",
   "mimetype": "text/x-python",
   "name": "python",
   "nbconvert_exporter": "python",
   "pygments_lexer": "ipython3",
   "version": "3.7.4"
  }
 },
 "nbformat": 4,
 "nbformat_minor": 4
}
