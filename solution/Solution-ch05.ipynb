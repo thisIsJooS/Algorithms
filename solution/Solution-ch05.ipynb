{
 "cells": [
  {
   "cell_type": "markdown",
   "metadata": {},
   "source": [
    "# Q 06\n",
    "\n",
    "Q. [7, 4, 9, 6, 3, 8, 7, 5] 를 병합정렬을 이용해 오름차순으로 정렬하라. "
   ]
  },
  {
   "cell_type": "code",
   "execution_count": 1,
   "metadata": {},
   "outputs": [
    {
     "name": "stdout",
     "output_type": "stream",
     "text": [
      "[3, 4, 5, 6, 7, 7, 8, 9]\n"
     ]
    }
   ],
   "source": [
    "def mergeSort(A):\n",
    "    n = len(A)\n",
    "    \n",
    "    if n <= 1:\n",
    "        return A\n",
    "    \n",
    "    mid = n//2\n",
    "    \n",
    "    leftList = mergeSort(A[:mid])\n",
    "    rightList = mergeSort(A[mid:])\n",
    "    \n",
    "    return merge(leftList, rightList)\n",
    "\n",
    "def merge(left, right):\n",
    "    temp = []\n",
    "    \n",
    "    while len(left) > 0 or len(right) > 0:\n",
    "        if len(left) > 0 and len(right) > 0:\n",
    "            if left[0] < right[0]:\n",
    "                temp.append(left[0])\n",
    "                left = left[1:]\n",
    "            \n",
    "            elif left[0] >= right[0]:\n",
    "                temp.append(right[0])\n",
    "                right = right[1:]\n",
    "            \n",
    "        elif len(left) > 0:\n",
    "            temp.append(left[0])\n",
    "            left = left[1:]\n",
    "            \n",
    "        elif len(right) > 0:\n",
    "            temp.append(right[0])\n",
    "            right = right[1:]\n",
    "        \n",
    "    return temp\n",
    "\n",
    "arr = [7, 4, 9, 6, 3, 8, 7, 5]\n",
    "arr = mergeSort(arr)\n",
    "print(arr)"
   ]
  },
  {
   "cell_type": "markdown",
   "metadata": {},
   "source": [
    "# Q 10\n",
    "Q. [7, 4, 9, 6, 3, 8, 7, 5] 를 퀵 정렬을 이용해 오름차순으로 정렬하라."
   ]
  },
  {
   "cell_type": "code",
   "execution_count": 2,
   "metadata": {},
   "outputs": [
    {
     "name": "stdout",
     "output_type": "stream",
     "text": [
      "[3, 4, 5, 6, 7, 7, 8, 9]\n"
     ]
    }
   ],
   "source": [
    "# Lomuto partition\n",
    "def partition(A, left, right):\n",
    "    pivotIndex = right\n",
    "    \n",
    "    i = left - 1\n",
    "    j = left\n",
    "    \n",
    "    while j < right:\n",
    "        if A[j] <= A[pivotIndex]:\n",
    "            i += 1\n",
    "            A[i], A[j] = A[j], A[i]\n",
    "        \n",
    "        j += 1\n",
    "    \n",
    "    A[i+1], A[pivotIndex] = A[pivotIndex], A[i+1]\n",
    "    \n",
    "    return i+1\n",
    "\n",
    "\n",
    "def quickSort(A, left, right):\n",
    "    if left < right : \n",
    "        pivotIndex = partition(A, left, right)\n",
    "\n",
    "        quickSort(A, left, pivotIndex-1)\n",
    "        quickSort(A, pivotIndex+1, right)\n",
    "        \n",
    "arr = [7, 4, 9, 6, 3, 8, 7, 5]\n",
    "\n",
    "quickSort(arr, 0, len(arr)-1)\n",
    "print(arr)\n"
   ]
  },
  {
   "cell_type": "markdown",
   "metadata": {},
   "source": [
    "# Q 12\n",
    "\n",
    "Q. median of three\n"
   ]
  },
  {
   "cell_type": "code",
   "execution_count": 3,
   "metadata": {},
   "outputs": [
    {
     "name": "stdout",
     "output_type": "stream",
     "text": [
      "[3, 4, 5, 6, 7, 7, 8, 9]\n"
     ]
    }
   ],
   "source": [
    "def median_of_three(A, left, right):\n",
    "    mid = (left + right) // 2\n",
    "    median = sorted([A[left], A[mid], A[right]])[1]\n",
    "    \n",
    "    if median == A[left]:\n",
    "        return left\n",
    "    elif median == A[right]:\n",
    "        return right\n",
    "    elif median == A[mid]:\n",
    "        return mid\n",
    "    \n",
    "\n",
    "# Lomuto partition\n",
    "def partition(A, left, right):\n",
    "    midIndex = median_of_three(A, left, right)\n",
    "    A[midIndex], A[left] = A[left], A[midIndex]\n",
    "    \n",
    "    pivotIndex = right\n",
    "    \n",
    "    i = left - 1\n",
    "    j = left\n",
    "    \n",
    "    while j < right:\n",
    "        if A[j] <= A[pivotIndex]:\n",
    "            i += 1\n",
    "            A[i], A[j] = A[j], A[i]\n",
    "        \n",
    "        j += 1\n",
    "    \n",
    "    A[i+1], A[pivotIndex] = A[pivotIndex], A[i+1]\n",
    "    \n",
    "    return i+1\n",
    "\n",
    "def quickSortImpl(A, left, right):\n",
    "    if left < right:\n",
    "        pivotIndex = partition(A, left, right)\n",
    "        quickSortImpl(A, left, pivotIndex-1)\n",
    "        quickSortImpl(A, pivotIndex+1, right)\n",
    "\n",
    "\n",
    "def quickSort(A):\n",
    "    quickSortImpl(A, 0, len(A)-1)\n",
    "\n",
    "\n",
    "arr = [7, 4, 9, 6, 3, 8, 7, 5]\n",
    "quickSort(arr)\n",
    "print(arr)"
   ]
  },
  {
   "cell_type": "markdown",
   "metadata": {},
   "source": [
    "# Q 15\n",
    "\n",
    "Q.    \n",
    "1) 모든 항목이 동인한 리스트는 퀵 정렬의 최선의 입력이나 최악의 입력이 되는가?    \n",
    "2) strictly decreasing order 의 리스트는 퀵 정렬의 최선의 입력이나 최악의 입력이 되는가?"
   ]
  },
  {
   "cell_type": "code",
   "execution_count": 4,
   "metadata": {},
   "outputs": [
    {
     "name": "stdout",
     "output_type": "stream",
     "text": [
      "0.07215070724487305\n",
      "0.0313260555267334\n",
      "2.2707598209381104\n"
     ]
    }
   ],
   "source": [
    "a = []\n",
    "b = []\n",
    "c = []\n",
    "\n",
    "import random \n",
    "\n",
    "for i in range(1500,0, -1):\n",
    "    a.append(i)\n",
    "    b.append(random.randrange(1, 1000))\n",
    "    c.append(5)\n",
    "\n",
    "    \n",
    "import time\n",
    "t1 = time.time()\n",
    "quickSort(a)\n",
    "t2 = time.time()\n",
    "quickSort(b)\n",
    "t3 = time.time()\n",
    "quickSort(c)\n",
    "t4 = time.time()\n",
    "\n",
    "print(t2-t1)\n",
    "print(t3-t2)\n",
    "print(t4-t3)\n"
   ]
  },
  {
   "cell_type": "markdown",
   "metadata": {},
   "source": [
    "# Q 16\n",
    "\n",
    "Q. 주어진 이진트리에서 모든 노드의 수를 계산하는 알고리즘을 분할 정복 기법으로 설계하라."
   ]
  },
  {
   "cell_type": "code",
   "execution_count": 5,
   "metadata": {},
   "outputs": [
    {
     "data": {
      "text/plain": [
       "6"
      ]
     },
     "execution_count": 5,
     "metadata": {},
     "output_type": "execute_result"
    }
   ],
   "source": [
    "class TNode:\n",
    "    def __init__(self, data, left, right):\n",
    "        self.data = data\n",
    "        self.left = left\n",
    "        self.right = right\n",
    "        \n",
    "d = TNode('D', None, None)\n",
    "e = TNode('E', None, None)\n",
    "b = TNode('B', d, e)\n",
    "f = TNode('F', None, None)\n",
    "c = TNode('C', f, None)\n",
    "root = TNode('A', b, c)\n",
    "\n",
    "\n",
    "def countNodes(root):\n",
    "    if root is None:\n",
    "        return 0\n",
    "    \n",
    "    left = countNodes(root.left)\n",
    "    right = countNodes(root.right)\n",
    "    \n",
    "    return left + right + 1\n",
    "\n",
    "\n",
    "countNodes(root)"
   ]
  },
  {
   "cell_type": "markdown",
   "metadata": {},
   "source": [
    "# Q 17\n",
    "\n",
    "Q. 주어진 이진트리에서 단말 노드의 수를 계산하는 알고리즘을 분할 정복 기법으로 설계하라."
   ]
  },
  {
   "cell_type": "code",
   "execution_count": 6,
   "metadata": {},
   "outputs": [
    {
     "data": {
      "text/plain": [
       "4"
      ]
     },
     "execution_count": 6,
     "metadata": {},
     "output_type": "execute_result"
    }
   ],
   "source": [
    "class TNode:\n",
    "    def __init__(self, data, left, right):\n",
    "        self.data = data\n",
    "        self.left = left\n",
    "        self.right = right\n",
    "        \n",
    "d = TNode('D', None, None)\n",
    "e = TNode('E', None, None)\n",
    "b = TNode('B', d, e)\n",
    "f = TNode('F', None, None)\n",
    "g = TNode('G', None, None)\n",
    "c = TNode('C', f, g)\n",
    "\n",
    "root = TNode('A', b, c)\n",
    "\n",
    "def countTerminalNodes(root):\n",
    "    if root is None:\n",
    "        return 0\n",
    "    \n",
    "    if root.left is None and root.right is None:\n",
    "        return 1\n",
    "\n",
    "    left = countTerminalNodes(root.left)\n",
    "    right = countTerminalNodes(root.right)\n",
    "    \n",
    "    return left + right\n",
    "\n",
    "countTerminalNodes(root)\n",
    "        "
   ]
  },
  {
   "cell_type": "markdown",
   "metadata": {},
   "source": [
    "# Q 20\n",
    "\n",
    "Q. 어떤 이진트리가 완전 이진트리인지를 검사하는 알고리즘을 분할 정복 기법으로 설계하라."
   ]
  },
  {
   "cell_type": "code",
   "execution_count": 7,
   "metadata": {},
   "outputs": [
    {
     "data": {
      "text/plain": [
       "True"
      ]
     },
     "execution_count": 7,
     "metadata": {},
     "output_type": "execute_result"
    }
   ],
   "source": [
    "def isCompleteBT(root):\n",
    "    if root is None:\n",
    "        return True\n",
    "    \n",
    "    queue = []\n",
    "    flag = 1\n",
    "    queue.append(root)\n",
    "    \n",
    "    while queue:\n",
    "        tempNode = queue.pop(0)\n",
    "        \n",
    "        if tempNode.left:\n",
    "            if flag is 0:\n",
    "                return False\n",
    "            queue.append(tempNode.left)\n",
    "        else:\n",
    "            flag = 0\n",
    "            \n",
    "            \n",
    "        if tempNode.right:\n",
    "            if flag is 0:\n",
    "                return False      \n",
    "            queue.append(tempNode.right)\n",
    "        else:\n",
    "            flag = 0\n",
    "    \n",
    "    return True\n",
    "\n",
    "\n",
    "class TNode:\n",
    "    def __init__(self, data, left, right):\n",
    "        self.data = data\n",
    "        self.left = left\n",
    "        self.right = right\n",
    "        \n",
    "d = TNode('D', None, None)\n",
    "e = TNode('E', None, None)\n",
    "b = TNode('B', d, e)\n",
    "f = TNode('F', None, None)\n",
    "g = TNode('G', None, None)\n",
    "c = TNode('C', f, g)\n",
    "\n",
    "root = TNode('A', b, c)\n",
    "\n",
    "isCompleteBT(root)"
   ]
  },
  {
   "cell_type": "markdown",
   "metadata": {},
   "source": [
    "# Q 21\n",
    "\n",
    "Q. 이진트리에서 어떤 노드의 레벨을 구하는 알고리즘을 분할 정복 기법으로 설계하라"
   ]
  },
  {
   "cell_type": "code",
   "execution_count": 8,
   "metadata": {},
   "outputs": [
    {
     "data": {
      "text/plain": [
       "4"
      ]
     },
     "execution_count": 8,
     "metadata": {},
     "output_type": "execute_result"
    }
   ],
   "source": [
    "def getLevel(root, node):\n",
    "    queue = []\n",
    "    queue.append(root)\n",
    "    queue.append(None)\n",
    "    level = 1\n",
    "    \n",
    "    while queue:\n",
    "        tempNode = queue.pop(0)\n",
    "        \n",
    "        if tempNode is None:\n",
    "            if len(queue) == 0:\n",
    "                return -1\n",
    "            if queue[0] is not None:\n",
    "                queue.append(None)\n",
    "            \n",
    "            level += 1\n",
    "        \n",
    "        \n",
    "        elif tempNode is not None:\n",
    "            if tempNode == node:\n",
    "                return level\n",
    "            if tempNode.left:\n",
    "                queue.append(tempNode.left)\n",
    "            if tempNode.right:\n",
    "                queue.append(tempNode.right)\n",
    "\n",
    "d = TNode('D', None, None)\n",
    "e = TNode('E', None, None)\n",
    "b = TNode('B', d, e)\n",
    "f = TNode('F', None, None)\n",
    "h = TNode('H', None, None)\n",
    "g = TNode('G', h, None)\n",
    "c = TNode('C', f, g)\n",
    "\n",
    "root = TNode('A', b, c)\n",
    "\n",
    "getLevel(root, h)"
   ]
  },
  {
   "cell_type": "markdown",
   "metadata": {},
   "source": [
    "# Q 22\n",
    "\n",
    "Q. closest_pair_dist() 알고리즘을 O(nlogn)으로 개선하라. 이를 위해, strip_closest()에서 정렬 문장을 제거해야 하고, closest_pair_dist()에서 병합 정렬의 병합 기법을 사용해야 할 것이다."
   ]
  },
  {
   "cell_type": "code",
   "execution_count": 40,
   "metadata": {},
   "outputs": [
    {
     "name": "stdout",
     "output_type": "stream",
     "text": [
      "0.0 /// 1.0945844650268555\n",
      "0.0 /// 2.7089998722076416\n",
      "0.0 /// 1.6175775527954102\n"
     ]
    }
   ],
   "source": []
  }
 ],
 "metadata": {
  "kernelspec": {
   "display_name": "Python 3",
   "language": "python",
   "name": "python3"
  },
  "language_info": {
   "codemirror_mode": {
    "name": "ipython",
    "version": 3
   },
   "file_extension": ".py",
   "mimetype": "text/x-python",
   "name": "python",
   "nbconvert_exporter": "python",
   "pygments_lexer": "ipython3",
   "version": "3.7.4"
  }
 },
 "nbformat": 4,
 "nbformat_minor": 4
}
