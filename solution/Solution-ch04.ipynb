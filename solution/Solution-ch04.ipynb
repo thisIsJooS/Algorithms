{
 "cells": [
  {
   "cell_type": "markdown",
   "metadata": {},
   "source": [
    "# Q 01\n",
    "\n",
    "Q. 삽입 정렬을 순환구조로 기술해 보라."
   ]
  },
  {
   "cell_type": "code",
   "execution_count": 1,
   "metadata": {},
   "outputs": [
    {
     "name": "stdout",
     "output_type": "stream",
     "text": [
      "[1, 2, 3, 4, 5]\n"
     ]
    }
   ],
   "source": [
    "def insertion_sort_recursively(A, n):\n",
    "    if n <= 1:\n",
    "        return\n",
    "    \n",
    "    insertion_sort_recursively(A, n-1)\n",
    "    \n",
    "    key = A[n-1]\n",
    "    j = n-2\n",
    "    while j>=0 and A[j]>key:\n",
    "        A[j+1] = A[j]\n",
    "        j -= 1\n",
    "    A[j+1] = key\n",
    "\n",
    "def insertion_sort(A):\n",
    "    insertion_sort_recursively(A, len(A))\n",
    "    \n",
    "    \n",
    "arr = [5, 4, 3, 2, 1]\n",
    "insertion_sort(arr)\n",
    "print(arr)"
   ]
  },
  {
   "cell_type": "markdown",
   "metadata": {},
   "source": [
    "# Q05\n",
    "\n",
    "Q. 다음은 삽입 정렬의 변형된 알고리즘이다.\n",
    "\n",
    "\n",
    "    insertion_sort2(A, n)\n",
    "        for i <- 1 to n-1 do\n",
    "            j <- i-1;\n",
    "            while j >= 0 and A[j]>A[j+1] do\n",
    "                A[j] <-> A[j+1]\n",
    "                j <- j-1\n",
    "                \n",
    "1) 이 알고리즘을 파이썬으로 구현하라.   \n",
    "2) 이 알고리즘의 효율은 어떨까?"
   ]
  },
  {
   "cell_type": "code",
   "execution_count": 2,
   "metadata": {},
   "outputs": [
    {
     "name": "stdout",
     "output_type": "stream",
     "text": [
      "insertion_sort() 걸린 시간 :  0.6882035732269287\n",
      "insertion_sort2() 걸린 시간 :  1.2002654075622559\n"
     ]
    }
   ],
   "source": [
    "import time\n",
    "\n",
    "def insertion_sort(A):\n",
    "    for i in range(1, len(A)):\n",
    "        key = A[i]\n",
    "        j = i-1\n",
    "        while j>=0 and A[j]>key:\n",
    "            A[j+1] = A[j]\n",
    "            j -= 1\n",
    "        A[j+1] = key\n",
    "    \n",
    "def insertion_sort2(A, n):\n",
    "    for i in range(1, n):\n",
    "        j = i-1\n",
    "        while j>=0 and A[j]>A[j+1]:\n",
    "            A[j], A[j+1] = A[j+1], A[j]\n",
    "            j -= 1\n",
    "\n",
    "\n",
    "arr = []\n",
    "arr2 = []\n",
    "for i in range(999, 1, -1):\n",
    "    arr.append(i)\n",
    "    arr2.append(i)\n",
    "    \n",
    "t1 = time.time()\n",
    "insertion_sort(arr)\n",
    "t2 = time.time()\n",
    "insertion_sort2(arr2, len(arr2))\n",
    "t3 = time.time()\n",
    "\n",
    "print(\"insertion_sort() 걸린 시간 : \", t2-t1)\n",
    "print(\"insertion_sort2() 걸린 시간 : \",t3-t2)"
   ]
  },
  {
   "cell_type": "markdown",
   "metadata": {},
   "source": [
    "# Q06\n",
    "\n",
    "Q. 셸 정렬 (shell sort)은 삽입 정렬이 어느 정도 정렬된 배열에 대해서는 대단히 빠른 것에 착안한 정렬방법이다. 이 정렬 방법을 찾아보고 삽입정렬과의 차이를 설명해 보라."
   ]
  },
  {
   "cell_type": "code",
   "execution_count": 3,
   "metadata": {},
   "outputs": [
    {
     "name": "stdout",
     "output_type": "stream",
     "text": [
      "[2, 3, 4, 5, 8, 10, 11, 13, 17]\n"
     ]
    }
   ],
   "source": [
    "def insertion_sort(arr, first, last, gap):\n",
    "    i = first + gap\n",
    "    \n",
    "    while i <= last:\n",
    "        pos = i\n",
    "        val = arr[i]\n",
    "        \n",
    "        while pos > first and arr[pos-gap] > val:\n",
    "            arr[pos] = arr[pos-gap]\n",
    "            pos -= gap\n",
    "        \n",
    "        arr[pos] = val\n",
    "        \n",
    "        i += gap\n",
    "    \n",
    "def shell_sort(arr):\n",
    "    n = len(arr)\n",
    "    gap = n//2\n",
    "    \n",
    "    while gap > 0:\n",
    "        for i in range(gap):\n",
    "            insertion_sort(arr, i, n-1, gap)\n",
    "        gap //= 2\n",
    "        \n",
    "    return arr\n",
    "\n",
    "arr = [8, 4, 10, 3, 13, 5, 11, 2, 17]\n",
    "shell_sort(arr)\n",
    "print(arr)\n"
   ]
  },
  {
   "cell_type": "markdown",
   "metadata": {},
   "source": [
    "# Q07\n",
    "\n",
    "Q. 다음의 방향 그래프에 대해 DFS 기반 위상 정렬을 수행하라."
   ]
  },
  {
   "cell_type": "code",
   "execution_count": 4,
   "metadata": {},
   "outputs": [
    {
     "name": "stdout",
     "output_type": "stream",
     "text": [
      "A B C F G D E "
     ]
    }
   ],
   "source": [
    "def topologicalSort(graph):\n",
    "    inDeg = {}\n",
    "    starts = []\n",
    "    \n",
    "    for v in graph:\n",
    "        inDeg[v] = 0\n",
    "    \n",
    "    for v in graph:\n",
    "        for u in graph[v]:\n",
    "            inDeg[u] += 1\n",
    "    \n",
    "    for v in graph:\n",
    "        if inDeg[v] == 0:\n",
    "            starts.append(v)\n",
    "            \n",
    "    if len(starts) == 0:\n",
    "        print(\"impossible\")\n",
    "        \n",
    "    else:\n",
    "        for start in starts:\n",
    "            dfs(graph, start, [], inDeg)\n",
    "    \n",
    "def dfs(graph, v, visited, inDeg):\n",
    "    if v not in visited:\n",
    "        visited.append(v)\n",
    "        print(v, end = ' ')\n",
    "        \n",
    "        for u in graph[v]:\n",
    "            inDeg[u] -= 1\n",
    "        \n",
    "        for u in graph[v]:\n",
    "            if inDeg[u] == 0:\n",
    "                dfs(graph, u, visited, inDeg)\n",
    "                \n",
    "g1 = {\n",
    "    'A' : {'B', 'D', 'E'},\n",
    "    'B' : {'C', 'E', 'F'},\n",
    "    'C' : {'G'},\n",
    "    'D' : {'E'},\n",
    "    'E' : {},\n",
    "    'F' : {'G'},\n",
    "    'G' : {}\n",
    "}\n",
    "\n",
    "topologicalSort(g1)"
   ]
  },
  {
   "cell_type": "markdown",
   "metadata": {},
   "source": [
    "# Q 15\n",
    "\n",
    "Q. 삼진탐색 (ternary search)"
   ]
  },
  {
   "cell_type": "code",
   "execution_count": 5,
   "metadata": {},
   "outputs": [
    {
     "name": "stdout",
     "output_type": "stream",
     "text": [
      "False\n",
      "True\n",
      "True\n",
      "True\n",
      "True\n",
      "True\n",
      "False\n"
     ]
    }
   ],
   "source": [
    "import random\n",
    "\n",
    "def ternarySearch(arr, key):\n",
    "    n = len(arr)\n",
    "    \n",
    "    if n == 0:\n",
    "        return False\n",
    "    \n",
    "    if n == 1:\n",
    "        return True if arr[0] == key else False  \n",
    "    \n",
    "    target1 = n//3\n",
    "    target2 = (2*n)//3\n",
    "    \n",
    "    if key > arr[target1]:\n",
    "        if key > arr[target2]:\n",
    "            return ternarySearch(arr[target2+1:], key)\n",
    "        \n",
    "        elif key < arr[target2]:\n",
    "            return ternarySearch(arr[target1+1:target2], key)\n",
    "        \n",
    "        elif key == arr[target2]:\n",
    "            return True\n",
    "        \n",
    "    elif key < arr[target1]:\n",
    "        return ternarySearch(arr[:target1], key)\n",
    "    \n",
    "    elif key == arr[target1]:\n",
    "        return True\n",
    "\n",
    "arr1 = [1, 2, 3, 4, 5]\n",
    "for i in range(7):\n",
    "    print(ternarySearch(arr1, i))"
   ]
  },
  {
   "cell_type": "markdown",
   "metadata": {},
   "source": [
    "# Q 17\n",
    "\n",
    "Q. 피보나치수열을 행렬의 거듭제곱으로 구하는 방법"
   ]
  },
  {
   "cell_type": "code",
   "execution_count": 6,
   "metadata": {},
   "outputs": [
    {
     "name": "stdout",
     "output_type": "stream",
     "text": [
      "0 1 1 2 3 5 8 13 21 34 \n",
      "0 1 1 2 3 5 8 13 21 34 \n",
      "0 1 1 2 3 5 8 13 21 34 "
     ]
    }
   ],
   "source": [
    "mat = [\n",
    "    [1, 1],\n",
    "    [1, 0]\n",
    "]\n",
    "\n",
    "def product(arr1, arr2):\n",
    "    x = len(arr2[0])\n",
    "    y = len(arr1)\n",
    "    answer = []\n",
    "    for i in range(y):\n",
    "        x_list = []\n",
    "        for j in range(x):\n",
    "            number = 0\n",
    "            for k in range(len(arr1[0])):\n",
    "                nf1 = arr1[i][k]\n",
    "                nf2 = arr2[k][j]\n",
    "                number += nf1 * nf2\n",
    "            x_list.append(number)\n",
    "        answer.append(x_list)\n",
    "    return answer\n",
    "\n",
    "def powerMat(A, n):\n",
    "    if n == 1:\n",
    "        return A\n",
    "    \n",
    "    elif n%2 == 0:\n",
    "        return powerMat(product(A, A), n//2)\n",
    "    \n",
    "    else:\n",
    "        return product(A, powerMat(product(A, A), (n-1)//2 ))\n",
    "\n",
    "\n",
    "# O(log N)    \n",
    "def fiboByMatrix(n):\n",
    "    if n <= 1:\n",
    "        return n\n",
    "    else:\n",
    "        return powerMat(mat, n)[1][0]\n",
    "    \n",
    "# O(n^2)\n",
    "def fiboByRecursion(n):\n",
    "    if n <= 1:\n",
    "        return n\n",
    "    else:\n",
    "        return fiboByRecursion(n-1) + fiboByRecursion(n-2)\n",
    "    \n",
    "\n",
    "# O(n), O(n)\n",
    "def fiboByTable(n):\n",
    "    f = [None] * (n+1)\n",
    "    \n",
    "    if n < 2:\n",
    "        return n\n",
    "    \n",
    "    f[0], f[1] = 0, 1\n",
    "            \n",
    "    for i in range(2, n+1):\n",
    "        f[i] = f[i-1] + f[i-2]\n",
    "    \n",
    "    return f[n]\n",
    "    \n",
    "    \n",
    "    \n",
    "for i in range(10):\n",
    "    print(fiboByMatrix(i), end = ' ')\n",
    "print()\n",
    "for i in range(10):\n",
    "    print(fiboByRecursion(i), end = ' ')\n",
    "print()\n",
    "for i in range(10):\n",
    "    print(fiboByTable(i), end = ' ')"
   ]
  },
  {
   "cell_type": "markdown",
   "metadata": {},
   "source": [
    "# Q 18\n",
    "\n",
    "Q. quick select를 이용해 리스트 A = [12, 5, 7, 9, 18, 3, 8] 에서 중앙값(median)을 찾는 과정을 보여라"
   ]
  },
  {
   "cell_type": "code",
   "execution_count": 7,
   "metadata": {},
   "outputs": [
    {
     "name": "stdout",
     "output_type": "stream",
     "text": [
      "8\n"
     ]
    }
   ],
   "source": [
    "def partition(arr):\n",
    "    n = len(arr)\n",
    "    pivotIndex = 0\n",
    "    low = pivotIndex + 1\n",
    "    high = n-1\n",
    "    \n",
    "    while low <= high:\n",
    "        while low < n and arr[pivotIndex] > arr[low]:\n",
    "            low += 1\n",
    "        \n",
    "        while high > pivotIndex and arr[pivotIndex] < arr[high]:\n",
    "            high -= 1\n",
    "        \n",
    "        if low < high:\n",
    "            arr[low], arr[high] = arr[high], arr[low]\n",
    "        \n",
    "    arr[pivotIndex], arr[high] = arr[high], arr[pivotIndex]\n",
    "    \n",
    "    return high\n",
    "\n",
    "\n",
    "def quickSelect(arr, key):\n",
    "    if key > len(arr) or key <= 0:\n",
    "        return -1\n",
    "    \n",
    "    pivotIndex = partition(arr)\n",
    "    \n",
    "    if pivotIndex+1 > key:\n",
    "        return quickSelect(arr[:pivotIndex], key)\n",
    "        \n",
    "    elif pivotIndex+1 < key:  \n",
    "        return quickSelect(arr[pivotIndex+1:], key-pivotIndex-1)\n",
    "    \n",
    "    elif pivotIndex+1 == key:\n",
    "        return arr[pivotIndex]\n",
    "    \n",
    "\n",
    "def findMid(arr):\n",
    "    return quickSelect(arr, len(arr)//2 + 1)\n",
    "\n",
    "arr = [12, 5, 7, 9, 18, 3, 8]\n",
    "print(findMid(arr))"
   ]
  },
  {
   "cell_type": "markdown",
   "metadata": {},
   "source": [
    "# Q 19\n",
    " \n",
    "Q. quick select 알고리즘을 반복구조로 기술하라"
   ]
  },
  {
   "cell_type": "code",
   "execution_count": 8,
   "metadata": {},
   "outputs": [
    {
     "name": "stdout",
     "output_type": "stream",
     "text": [
      "-1 3 5 7 8 9 12 18 -1 -1 "
     ]
    }
   ],
   "source": [
    "def quickSelect_iter(arr, key):\n",
    "    if key > len(arr) or key <= 0:\n",
    "        return -1\n",
    "    \n",
    "    while True:\n",
    "        pivotIndex = partition(arr)\n",
    "        \n",
    "        if pivotIndex+1 > key:\n",
    "            arr = arr[:pivotIndex]\n",
    "        \n",
    "        elif pivotIndex+1 < key:  \n",
    "            arr = arr[pivotIndex+1:] \n",
    "            key = key-pivotIndex-1\n",
    "\n",
    "        elif pivotIndex+1 == key:\n",
    "            return arr[pivotIndex]\n",
    "\n",
    "for i in range(10):\n",
    "    print(quickSelect_iter(arr, i), end = ' ')  "
   ]
  },
  {
   "cell_type": "markdown",
   "metadata": {},
   "source": [
    "# Q 20\n",
    "\n",
    "Q. quick select 에 대한 최악의 입력 상황은?\n",
    "\n",
    "##### 최선의 경우\n",
    "한 번의 분할만으로 선택이 완료되는 경우. O(n)의 시간이 걸린다.\n",
    "\n",
    "##### 최악의 경우\n",
    "분할할 떄 마다 부분 리스트의 한쪽은 항목이 없고 다른 한쪽에만 항목이 들어가는 상황이다.     \n",
    "예를들어, 이미 정렬된 리스트에서 가장 큰 항목을 찾는 것 (key = n)이 가장 최악의 상황이다.    \n",
    "n에 비례하는 분할이 필요하므로 O(n^2)의 시간이 걸린다. "
   ]
  },
  {
   "cell_type": "markdown",
   "metadata": {},
   "source": [
    "# Q 21\n",
    "\n",
    "Q. 로무토(lomuto) 분할이라는 방법도 있다. 이 방법을 조사하고 두 방법의 장단점을 비교하라.    \n",
    "\n",
    "\n",
    "\n",
    "###### 최악의 시간복잡도 O(N^2)가 되는 경우\n",
    "@ Hoare Partition 방식\n",
    "- 피봇의 값을 맨 왼쪽의 값으로 채택하는 경우, 레코드들 중 최소값이 피봇으로 선택되면 분할이 안일어나 \n",
    "   다른 정렬 알고리즘과 다를게 없어지므로 효율이 떨어져 시간복잡도 O(N^2)이 될 수 있다.\n",
    "   (피봇을 맨 오른쪽 값으로 채택하는 경우는 그 반대)\n",
    "\n",
    " \n",
    "\n",
    "@ Lomuto Partition 방식\n",
    "-  모든 인자가 같은 수이거나 이미 정렬된 배열일지라도 swap을 계속 발생시키기 때문에 시간복잡도가 O(N^2)이 될 수 있다.\n",
    "- Hoare Partition 방식과 마찬가지로 피봇의 잘못된 선택으로 분할이 안일어나면 효율이 떨어지게 됨.\n"
   ]
  },
  {
   "cell_type": "code",
   "execution_count": 9,
   "metadata": {},
   "outputs": [
    {
     "name": "stdout",
     "output_type": "stream",
     "text": [
      "-1 1 2 3 4 5 6 7 8 11 12 "
     ]
    }
   ],
   "source": [
    "def lomutoPartition(arr):\n",
    "    n = len(arr)\n",
    "    pivotIndex = n-1\n",
    "    i, j = -1, 0\n",
    "    \n",
    "    while j < pivotIndex:\n",
    "        if arr[j] <= arr[pivotIndex]:\n",
    "            i += 1\n",
    "            arr[i], arr[j] = arr[j], arr[i]\n",
    "        j += 1\n",
    "    \n",
    "    arr[i+1], arr[pivotIndex] = arr[pivotIndex], arr[i+1]\n",
    "    \n",
    "    return i+1\n",
    "\n",
    "\n",
    "def quickSelect(arr, key):\n",
    "    if key > len(arr) or key <= 0:\n",
    "        return -1\n",
    "    \n",
    "    pivotIndex = lomutoPartition(arr)\n",
    "    \n",
    "    if pivotIndex+1 > key:\n",
    "        return quickSelect(arr[:pivotIndex], key)\n",
    "        \n",
    "    elif pivotIndex+1 < key:  \n",
    "        return quickSelect(arr[pivotIndex+1:], key-pivotIndex-1)\n",
    "    \n",
    "    elif pivotIndex+1 == key:\n",
    "        return arr[pivotIndex]\n",
    "\n",
    "arr = [3, 5, 6, 7, 8, 1, 2, 12, 11, 4]\n",
    "\n",
    "for i in range(11):\n",
    "    print(quickSelect(arr, i), end = ' ')"
   ]
  },
  {
   "cell_type": "markdown",
   "metadata": {},
   "source": [
    "# Q 23\n",
    "\n",
    "Q. 보간 탐색을 위한 최악의 입력에 대한 예를 제시하라. 이러한 입력에 대해 보간탐색의 시간 복잡도가 O(n)이 되는 것을 설명하라.\n",
    "\n",
    "\n",
    "기본적인 시간 복잡도는 이진 탐색과 같이 O(logN)이다.    \n",
    "많은 데이터가 비교적 균등하게 분포되어 있는 자료에서는 훨씬 효율적으로 사용될 수 있다.    \n",
    "최악의 경우(불균등한 경우) O(n)의 시간복잡도를 가진다. "
   ]
  },
  {
   "cell_type": "code",
   "execution_count": 13,
   "metadata": {},
   "outputs": [
    {
     "name": "stdout",
     "output_type": "stream",
     "text": [
      "False\n",
      "True\n",
      "False\n",
      "True\n",
      "True\n",
      "False\n",
      "True\n",
      "False\n",
      "True\n",
      "True\n"
     ]
    }
   ],
   "source": [
    "def f(A, key):\n",
    "    low, high = 0, len(A)-1\n",
    "    mid = int(low + (high-low) * (key-A[low]) / (A[high] - A[low]) )\n",
    "    \n",
    "    if key < A[low] or key > A[high]:\n",
    "        return False\n",
    "    \n",
    "    if key > A[mid]:\n",
    "        return f(A[mid+1:], key)\n",
    "    \n",
    "    elif key < A[mid]:\n",
    "        return f(A[:mid], key)\n",
    "    \n",
    "    elif key == A[mid]:\n",
    "        return True\n",
    "    \n",
    "    return False\n",
    "\n",
    "arr = [1, 3, 4, 6, 8, 9, 10, 11, 15, 16, 18]\n",
    "for i in range(10):\n",
    "    print(f(arr, i))"
   ]
  },
  {
   "cell_type": "code",
   "execution_count": null,
   "metadata": {},
   "outputs": [],
   "source": []
  }
 ],
 "metadata": {
  "kernelspec": {
   "display_name": "Python 3",
   "language": "python",
   "name": "python3"
  },
  "language_info": {
   "codemirror_mode": {
    "name": "ipython",
    "version": 3
   },
   "file_extension": ".py",
   "mimetype": "text/x-python",
   "name": "python",
   "nbconvert_exporter": "python",
   "pygments_lexer": "ipython3",
   "version": "3.7.4"
  }
 },
 "nbformat": 4,
 "nbformat_minor": 4
}
